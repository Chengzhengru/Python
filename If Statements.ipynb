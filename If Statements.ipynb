{
 "cells": [
  {
   "cell_type": "markdown",
   "id": "cb430437-119d-415f-b417-ad5a386d19da",
   "metadata": {},
   "source": [
    "# IF STATEMENTS"
   ]
  },
  {
   "cell_type": "code",
   "execution_count": 23,
   "id": "333a5e07-c7ea-448c-a087-a21fc4c89dca",
   "metadata": {},
   "outputs": [
    {
     "name": "stdout",
     "output_type": "stream",
     "text": [
      "Audi\n",
      "BMW\n",
      "Subaru\n",
      "Toyota\n"
     ]
    }
   ],
   "source": [
    "cars = ['audi', 'bmw', 'subaru', 'toyota']\n",
    "\n",
    "for car in cars:\n",
    "    if car == 'bmw':\n",
    "        print(car.upper())\n",
    "    else:\n",
    "        print(car.title())"
   ]
  },
  {
   "cell_type": "code",
   "execution_count": 25,
   "id": "0f6a75a8-da32-4959-810a-c89303a1d573",
   "metadata": {},
   "outputs": [
    {
     "data": {
      "text/plain": [
       "True"
      ]
     },
     "execution_count": 25,
     "metadata": {},
     "output_type": "execute_result"
    }
   ],
   "source": [
    "car = 'bmw'\n",
    "car == 'bmw'"
   ]
  },
  {
   "cell_type": "code",
   "execution_count": 26,
   "id": "dea60b50-b57a-4981-af8b-2848caf044af",
   "metadata": {},
   "outputs": [
    {
     "data": {
      "text/plain": [
       "False"
      ]
     },
     "execution_count": 26,
     "metadata": {},
     "output_type": "execute_result"
    }
   ],
   "source": [
    "car = 'Audi'\n",
    "car == 'audi'"
   ]
  },
  {
   "cell_type": "code",
   "execution_count": 29,
   "id": "a32ae852-3692-440d-a181-447970cd2f6a",
   "metadata": {},
   "outputs": [
    {
     "data": {
      "text/plain": [
       "'Audi'"
      ]
     },
     "execution_count": 29,
     "metadata": {},
     "output_type": "execute_result"
    }
   ],
   "source": [
    "car = 'Audi'\n",
    "car.lower() =='audi'\n",
    "car"
   ]
  },
  {
   "cell_type": "code",
   "execution_count": 31,
   "id": "c3ab113e-28a2-45ad-99dc-9e8f8d04db8b",
   "metadata": {},
   "outputs": [
    {
     "name": "stdout",
     "output_type": "stream",
     "text": [
      "Hold the anchovies\n"
     ]
    }
   ],
   "source": [
    "requested_topping = 'mushrooms'\n",
    "if requested_topping != 'anchovies':\n",
    "    print(\"Hold the anchovies\")"
   ]
  },
  {
   "cell_type": "code",
   "execution_count": 32,
   "id": "e42f2133-74b4-450f-af21-77a12d7d68ec",
   "metadata": {},
   "outputs": [
    {
     "data": {
      "text/plain": [
       "True"
      ]
     },
     "execution_count": 32,
     "metadata": {},
     "output_type": "execute_result"
    }
   ],
   "source": [
    "age = 18\n",
    "age == 18"
   ]
  },
  {
   "cell_type": "code",
   "execution_count": 33,
   "id": "c8b3ed63-6a91-442c-9f49-480255d1b419",
   "metadata": {},
   "outputs": [
    {
     "name": "stdout",
     "output_type": "stream",
     "text": [
      "That is not the correct. Please try again!\n"
     ]
    }
   ],
   "source": [
    "answer = 17\n",
    "if answer != 42:\n",
    "    print(\"That is not the correct. Please try again!\")"
   ]
  },
  {
   "cell_type": "code",
   "execution_count": 37,
   "id": "4bf00d7f-5a9a-49b2-b957-5930e4f3b159",
   "metadata": {},
   "outputs": [
    {
     "data": {
      "text/plain": [
       "False"
      ]
     },
     "execution_count": 37,
     "metadata": {},
     "output_type": "execute_result"
    }
   ],
   "source": [
    "age = 19 \n",
    "age < 21\n",
    "age <= 21\n",
    "age > 21\n",
    "age >= 21\n"
   ]
  },
  {
   "cell_type": "code",
   "execution_count": 39,
   "id": "1f8d2bc7-22af-4816-b6fc-ed9625f88846",
   "metadata": {},
   "outputs": [
    {
     "data": {
      "text/plain": [
       "True"
      ]
     },
     "execution_count": 39,
     "metadata": {},
     "output_type": "execute_result"
    }
   ],
   "source": [
    "age_0 = 22\n",
    "age_1 = 18 \n",
    "age_0 >= 21 and age_1 >= 21\n",
    "age_1 = 22\n",
    "age_0 >= 21 and age_1 >= 21"
   ]
  },
  {
   "cell_type": "code",
   "execution_count": 41,
   "id": "75b0256c-ffbd-4a38-9df9-276b23b658c2",
   "metadata": {},
   "outputs": [
    {
     "data": {
      "text/plain": [
       "True"
      ]
     },
     "execution_count": 41,
     "metadata": {},
     "output_type": "execute_result"
    }
   ],
   "source": [
    "age_0 = 22\n",
    "age_1 = 18\n",
    "age_0 >= 21 or age_1 >= 21"
   ]
  },
  {
   "cell_type": "code",
   "execution_count": 43,
   "id": "a600dfb0-2398-4ced-9287-3bac20cecd73",
   "metadata": {},
   "outputs": [
    {
     "data": {
      "text/plain": [
       "False"
      ]
     },
     "execution_count": 43,
     "metadata": {},
     "output_type": "execute_result"
    }
   ],
   "source": [
    "requested_toppings = ['mushrooms', 'onions', 'pineapple']\n",
    "'mushrooms' in requested_toppings \n",
    "'pepperoni' in requested_toppings"
   ]
  },
  {
   "cell_type": "code",
   "execution_count": 44,
   "id": "435a6e95-e527-4901-90b9-102191e5421b",
   "metadata": {},
   "outputs": [
    {
     "name": "stdout",
     "output_type": "stream",
     "text": [
      "Marie, you can post a response if you wish\n"
     ]
    }
   ],
   "source": [
    "banned_users = ['andrew', 'carolina', 'david']\n",
    "user = 'marie'\n",
    "\n",
    "if user not in banned_users:\n",
    "    print(f\"{user.title()}, you can post a response if you wish\")"
   ]
  },
  {
   "cell_type": "code",
   "execution_count": 46,
   "id": "3310537f-53ac-4aa5-8b0f-15072823a152",
   "metadata": {},
   "outputs": [],
   "source": [
    "game_active = True\n",
    "can_edit = False "
   ]
  },
  {
   "cell_type": "code",
   "execution_count": 48,
   "id": "9444fcef-1e97-40ff-9ab3-69ec98ec83de",
   "metadata": {},
   "outputs": [
    {
     "name": "stdout",
     "output_type": "stream",
     "text": [
      "Is car == 'subaru'? I Predict True\n",
      "True\n",
      "\n",
      " Is car == 'audi'? I Predict False\n",
      "False\n"
     ]
    }
   ],
   "source": [
    "car = 'subaru'\n",
    "print(\"Is car == 'subaru'? I Predict True\")\n",
    "print(car == 'subaru')\n",
    "\n",
    "print(\"\\n Is car == 'audi'? I Predict False\")\n",
    "print(car == 'audi')"
   ]
  },
  {
   "cell_type": "code",
   "execution_count": 54,
   "id": "e97b7d6d-1527-4e02-bb52-6ddd7e1ee450",
   "metadata": {},
   "outputs": [
    {
     "name": "stdout",
     "output_type": "stream",
     "text": [
      "Is name == 'Mary'? I Predict true\n",
      "True\n",
      "\n",
      "Is name != 'Bob'? I Predict true\n",
      "True\n",
      "\n",
      "Is number > 5 and number < 15? I predict true\n",
      "True\n",
      "\n",
      "Is 'red' in colors? I predict true\n",
      "True\n",
      "\n",
      "Is 'orange' in colors? I predict true\n",
      "True\n"
     ]
    }
   ],
   "source": [
    "name = 'Mary'\n",
    "print(\"Is name == 'Mary'? I Predict true\")\n",
    "print(name == 'Mary')\n",
    "print(\"\\nIs name != 'Bob'? I Predict true\")\n",
    "print(name != 'Bob')\n",
    "\n",
    "number = 10 \n",
    "print(\"\\nIs number > 5 and number < 15? I predict true\")\n",
    "print(number > 5 and number < 15)\n",
    "\n",
    "colors = ['red', 'yellow', 'blue']\n",
    "print(\"\\nIs 'red' in colors? I predict true\")\n",
    "print('red' in colors)\n",
    "\n",
    "print(\"\\nIs 'orange' in colors? I predict true\")\n",
    "print('orange' not in colors)"
   ]
  },
  {
   "cell_type": "code",
   "execution_count": 56,
   "id": "328fc40b-597d-41fc-8909-3e59f08b262a",
   "metadata": {},
   "outputs": [
    {
     "name": "stdout",
     "output_type": "stream",
     "text": [
      "You are old enough to vote\n"
     ]
    }
   ],
   "source": [
    "age = 19\n",
    "if age >= 18:\n",
    "    print(\"You are old enough to vote\")"
   ]
  },
  {
   "cell_type": "code",
   "execution_count": 57,
   "id": "df6401fe-033a-4ad4-87c5-0fb75395e085",
   "metadata": {},
   "outputs": [
    {
     "name": "stdout",
     "output_type": "stream",
     "text": [
      "You are old enough to vote!\n",
      "Have you registered to vote yet?\n"
     ]
    }
   ],
   "source": [
    "age = 19 \n",
    "if age >= 18:\n",
    "    print(\"You are old enough to vote!\")\n",
    "    print(\"Have you registered to vote yet?\")"
   ]
  },
  {
   "cell_type": "code",
   "execution_count": 58,
   "id": "cce14dca-4528-4c81-8b64-f5f823dcc19e",
   "metadata": {},
   "outputs": [
    {
     "name": "stdout",
     "output_type": "stream",
     "text": [
      "Sorry, you are too young to vote.\n",
      "Please register to vote as soon as turn 18!\n"
     ]
    }
   ],
   "source": [
    "age = 17\n",
    "if age >= 18:\n",
    "    print(\"You are old enough to vote!\")\n",
    "    print(\"Have you registered to vote yet?\")\n",
    "else:\n",
    "    print(\"Sorry, you are too young to vote.\")\n",
    "    print(\"Please register to vote as soon as turn 18!\")"
   ]
  },
  {
   "cell_type": "code",
   "execution_count": 59,
   "id": "50b141a9-f990-4c9b-ad38-1de237ae04dc",
   "metadata": {},
   "outputs": [
    {
     "name": "stdout",
     "output_type": "stream",
     "text": [
      "Your admission cost is $25\n"
     ]
    }
   ],
   "source": [
    "age = 12\n",
    "if age < 4:\n",
    "    print(\"Your admission cost is $0.\")\n",
    "elif age < 18:\n",
    "    print(\"Your admission cost is $25\")\n",
    "else:\n",
    "    print(\"Your admission cost is $40\")"
   ]
  },
  {
   "cell_type": "code",
   "execution_count": 60,
   "id": "01943f20-32a2-4441-9b33-405520b463a6",
   "metadata": {},
   "outputs": [
    {
     "name": "stdout",
     "output_type": "stream",
     "text": [
      "Your admission cost is 25.\n"
     ]
    }
   ],
   "source": [
    "age = 12 \n",
    "if age < 4:\n",
    "    price = 0\n",
    "elif age < 18:\n",
    "    price = 25\n",
    "else:\n",
    "    price = 40\n",
    "print(f\"Your admission cost is {price}.\")"
   ]
  },
  {
   "cell_type": "code",
   "execution_count": 61,
   "id": "81e4ff8f-eb8d-4be0-8a6c-d888c59ef1f1",
   "metadata": {},
   "outputs": [
    {
     "name": "stdout",
     "output_type": "stream",
     "text": [
      "Adding mushroons.\n",
      "Adding extra cheese.\n",
      "\n",
      "Finished making your pizza!\n"
     ]
    }
   ],
   "source": [
    "requested_toppings = ['mushrooms', 'extra cheese']\n",
    "\n",
    "if 'mushrooms' in requested_toppings:\n",
    "    print(\"Adding mushroons.\")\n",
    "if 'pepperoni' in requested_toppings:\n",
    "    print(\"Adding pepperoni.\")\n",
    "if 'extra cheese' in requested_toppings:\n",
    "    print(\"Adding extra cheese.\")\n",
    "\n",
    "print(\"\\nFinished making your pizza!\")"
   ]
  },
  {
   "cell_type": "code",
   "execution_count": 62,
   "id": "31bca029-10e3-4ddd-bda1-13bd230c4138",
   "metadata": {},
   "outputs": [
    {
     "name": "stdout",
     "output_type": "stream",
     "text": [
      "Adding mushroons.\n",
      "\n",
      "Finished making your pizza!\n"
     ]
    }
   ],
   "source": [
    "requested_toppings = ['mushrooms', 'extra cheese']\n",
    "\n",
    "if 'mushrooms' in requested_toppings:\n",
    "    print(\"Adding mushroons.\")\n",
    "elif 'pepperoni' in requested_toppings:\n",
    "    print(\"Adding pepperoni.\")\n",
    "elif 'extra cheese' in requested_toppings:\n",
    "    print(\"Adding extra cheese.\")\n",
    "\n",
    "print(\"\\nFinished making your pizza!\")"
   ]
  },
  {
   "cell_type": "code",
   "execution_count": 64,
   "id": "13b073c8-6e85-4ca6-b584-353bb59f99f1",
   "metadata": {},
   "outputs": [
    {
     "name": "stdout",
     "output_type": "stream",
     "text": [
      "Your admission cost is 25.\n"
     ]
    }
   ],
   "source": [
    "age = 12\n",
    "\n",
    "if age < 4:\n",
    "    price = 0\n",
    "elif age < 18:\n",
    "    price = 25\n",
    "elif age < 65:\n",
    "    price = 40\n",
    "else:\n",
    "    price = 20\n",
    "\n",
    "print(f\"Your admission cost is {price}.\")"
   ]
  },
  {
   "cell_type": "code",
   "execution_count": 66,
   "id": "977181fa-e8aa-47c3-a4fa-858c9485f5a5",
   "metadata": {},
   "outputs": [
    {
     "name": "stdout",
     "output_type": "stream",
     "text": [
      "You just earned five points\n"
     ]
    }
   ],
   "source": [
    "alien_color = ['green', 'yellow', 'red']\n",
    "if 'green' in alien_color:\n",
    "    print(\"You just earned five points\")"
   ]
  },
  {
   "cell_type": "code",
   "execution_count": 67,
   "id": "f2d76e16-8fcf-4ba5-a389-5eaee945539e",
   "metadata": {},
   "outputs": [
    {
     "name": "stdout",
     "output_type": "stream",
     "text": [
      "You just earned five points.\n"
     ]
    }
   ],
   "source": [
    "alien_color = ['green', 'yellow', 'red']\n",
    "if 'green' in alien_color:\n",
    "    print(\"You just earned five points.\")\n",
    "\n",
    "else:\n",
    "    print(\"You just earned ten points.\")"
   ]
  },
  {
   "cell_type": "code",
   "execution_count": 68,
   "id": "e9409016-ae54-4bf1-85ee-86ce8a7d19ee",
   "metadata": {},
   "outputs": [
    {
     "name": "stdout",
     "output_type": "stream",
     "text": [
      "You just earned ten points.\n"
     ]
    }
   ],
   "source": [
    "alien_color = ['grenn', 'yellow', 'red']\n",
    "if 'green' in alien_color:\n",
    "    print(\"You just earned five points.\")\n",
    "elif 'yellow' in alien_color:\n",
    "    print(\"You just earned ten points.\")\n",
    "else:\n",
    "    print(\"You just earned fifteen points.\")"
   ]
  },
  {
   "cell_type": "code",
   "execution_count": 69,
   "id": "3417e521-99e1-46eb-a69d-9d9d26a987a2",
   "metadata": {},
   "outputs": [
    {
     "name": "stdout",
     "output_type": "stream",
     "text": [
      "You are adult.\n"
     ]
    }
   ],
   "source": [
    "age = 25\n",
    "if age < 2:\n",
    "    print(\"You are baby.\")\n",
    "elif 2 <= age < 4:\n",
    "    print(\"You are toddler.\")\n",
    "elif 4 <= age < 13:\n",
    "    print(\"You are child.\")\n",
    "elif 13 <= age < 18:\n",
    "    print(\"You are teenage.\")\n",
    "elif 18 <= age < 65:\n",
    "    print(\"You are adult.\")\n",
    "else:\n",
    "    print(\"You are probably elder.\")"
   ]
  },
  {
   "cell_type": "code",
   "execution_count": 70,
   "id": "e434bbbe-90c7-4e17-b31d-f69e3a054be7",
   "metadata": {},
   "outputs": [
    {
     "name": "stdout",
     "output_type": "stream",
     "text": [
      "You really like bananas!\n",
      "You really like apples!\n",
      "You really like grapes!\n"
     ]
    }
   ],
   "source": [
    "favorite_fruits = ['banana', 'apple', 'grape']\n",
    "\n",
    "if 'banana' in favorite_fruits:\n",
    "    print(\"You really like bananas!\")\n",
    "if 'apple' in favorite_fruits:\n",
    "    print(\"You really like apples!\")\n",
    "if 'grape' in favorite_fruits:\n",
    "    print(\"You really like grapes!\")\n",
    "if 'orange' in favorite_fruits:\n",
    "    print(\"You really like oranges!\")\n",
    "if 'strawberry' in favorite_fruits:\n",
    "    print(\"You really like strawberries!\")"
   ]
  },
  {
   "cell_type": "code",
   "execution_count": 72,
   "id": "8885b972-cc2d-4a0b-8889-5f9daff15d48",
   "metadata": {},
   "outputs": [
    {
     "name": "stdout",
     "output_type": "stream",
     "text": [
      "Addingmushrooms.\n",
      "Addinggreen peppers.\n",
      "Addingextra cheese.\n",
      "\n",
      "Finished making your pizza!\n"
     ]
    }
   ],
   "source": [
    "requested_toppings = ['mushrooms', 'green peppers', 'extra cheese']\n",
    "\n",
    "for requested_topping in requested_toppings:\n",
    "    print(f\"Adding{requested_topping}.\")\n",
    "\n",
    "print(\"\\nFinished making your pizza!\")"
   ]
  },
  {
   "cell_type": "code",
   "execution_count": 75,
   "id": "20502843-4226-45bb-a52b-11d996b800f3",
   "metadata": {},
   "outputs": [
    {
     "name": "stdout",
     "output_type": "stream",
     "text": [
      "Adding mushrooms.\n",
      "Sorry, we are out of green peppers right now.\n",
      "Adding extra cheese.\n",
      "\n",
      "Finished making your pizza!\n"
     ]
    }
   ],
   "source": [
    "requested_toppings = ['mushrooms', 'green peppers', 'extra cheese']\n",
    "\n",
    "for requested_topping in requested_toppings:\n",
    "    if requested_topping == 'green peppers':\n",
    "        print(\"Sorry, we are out of green peppers right now.\")\n",
    "    else:\n",
    "        print(f\"Adding {requested_topping}.\")\n",
    "print(\"\\nFinished making your pizza!\")"
   ]
  },
  {
   "cell_type": "code",
   "execution_count": 77,
   "id": "17cc4b52-a94b-4aaa-87fd-67c7eab2dc6a",
   "metadata": {},
   "outputs": [
    {
     "name": "stdout",
     "output_type": "stream",
     "text": [
      "Are you sure you want a plain pizza?\n"
     ]
    }
   ],
   "source": [
    "requested_toppings = []\n",
    "if requested_toppings:\n",
    "    for requested_topping in requested_toppings:\n",
    "        print(f\"Adding {requested_topping}.\")\n",
    "    print(\"\\nFinished making your pizza!\")\n",
    "else:\n",
    "    print(\"Are you sure you want a plain pizza?\")"
   ]
  },
  {
   "cell_type": "code",
   "execution_count": 80,
   "id": "c833f93b-7ccd-4881-afc4-fc333ef664c6",
   "metadata": {},
   "outputs": [
    {
     "name": "stdout",
     "output_type": "stream",
     "text": [
      "Adding mushrooms.\n",
      "Sorry, we don't have french fries.\n",
      "Adding extra cheese.\n",
      "\n",
      "Finished making your pizza!\n"
     ]
    }
   ],
   "source": [
    "available_toppings = ['mushrooms', 'olives', 'green peppers', 'pepperoni', 'pineapple', 'extra cheese']\n",
    "\n",
    "requested_toppings = ['mushrooms', 'french fries', 'extra cheese']\n",
    "\n",
    "for requested_topping in requested_toppings:\n",
    "    if requested_topping in available_toppings:\n",
    "        print(f\"Adding {requested_topping}.\")\n",
    "    else:\n",
    "        print(f\"Sorry, we don't have {requested_topping}.\")\n",
    "\n",
    "print(\"\\nFinished making your pizza!\")"
   ]
  },
  {
   "cell_type": "code",
   "execution_count": 83,
   "id": "e15d8ca2-f75c-48cf-ac05-01c38f90f50d",
   "metadata": {},
   "outputs": [
    {
     "name": "stdout",
     "output_type": "stream",
     "text": [
      "Hello admin, would you like to see a status report?\n",
      "Hello jack, thank you for logging in again.\n",
      "Hello maichael, thank you for logging in again.\n",
      "Hello alice, thank you for logging in again.\n"
     ]
    }
   ],
   "source": [
    "usernames = ['admin', 'jack', 'maichael', 'alice']\n",
    "\n",
    "for username in usernames:\n",
    "    if username == 'admin':\n",
    "        print(\"Hello admin, would you like to see a status report?\")\n",
    "    else:\n",
    "        print(f\"Hello {username}, thank you for logging in again.\")"
   ]
  },
  {
   "cell_type": "code",
   "execution_count": 85,
   "id": "ea008a33-a69c-4fd7-b450-bce23d70c56d",
   "metadata": {},
   "outputs": [
    {
     "name": "stdout",
     "output_type": "stream",
     "text": [
      "We need to fins some users!\n"
     ]
    }
   ],
   "source": [
    "usernames = []\n",
    "\n",
    "for username in usernames:\n",
    "    if username == 'admin':\n",
    "        print(\"Hello, admin, would you like to see a status report?\")\n",
    "    else:\n",
    "        print(f\"Hello, {username}, thank you for logging in again\") \n",
    "else:\n",
    "    print(\"We need to fins some users!\")"
   ]
  },
  {
   "cell_type": "code",
   "execution_count": 90,
   "id": "0c0d5b8a-46dd-4942-b103-789d39f00fb2",
   "metadata": {},
   "outputs": [
    {
     "name": "stdout",
     "output_type": "stream",
     "text": [
      "The JOHN is availabel.\n",
      "The ALICE is availabel.\n",
      "The mike is availabel.\n",
      "The david is availabel.\n",
      "The steve is availabel.\n"
     ]
    }
   ],
   "source": [
    "current_users = ['john', 'jaden', 'alice', 'bob', 'carol']\n",
    "new_users = ['JOHN', 'ALICE', 'mike', 'david', 'steve']\n",
    "\n",
    "for new_user in new_users:\n",
    "    if new_user in current_users:\n",
    "        print(f\"Sorry, the {new_user} is taken, Please enter a new user.\")\n",
    "    else:\n",
    "        print(f\"The {new_user} is availabel.\")"
   ]
  },
  {
   "cell_type": "code",
   "execution_count": 97,
   "id": "6e1da8cb-59d1-42bf-aa73-afa5f1e0f177",
   "metadata": {},
   "outputs": [
    {
     "name": "stdout",
     "output_type": "stream",
     "text": [
      "1st\n",
      "2nd\n",
      "3rd\n",
      "4th\n",
      "5th\n",
      "6th\n",
      "7th\n",
      "8th\n",
      "9th\n"
     ]
    }
   ],
   "source": [
    "numbers = list(range(1, 10))\n",
    "for number in numbers:\n",
    "    if number == 1:\n",
    "        print(\"1st\")\n",
    "    elif number == 2:\n",
    "        print(\"2nd\")\n",
    "    elif number == 3:\n",
    "        print(\"3rd\")\n",
    "    else:\n",
    "        print(f\"{number}th\")"
   ]
  },
  {
   "cell_type": "code",
   "execution_count": null,
   "id": "644c561f-b611-402f-9105-950636c9cd26",
   "metadata": {},
   "outputs": [],
   "source": []
  }
 ],
 "metadata": {
  "kernelspec": {
   "display_name": "Python 3 (ipykernel)",
   "language": "python",
   "name": "python3"
  },
  "language_info": {
   "codemirror_mode": {
    "name": "ipython",
    "version": 3
   },
   "file_extension": ".py",
   "mimetype": "text/x-python",
   "name": "python",
   "nbconvert_exporter": "python",
   "pygments_lexer": "ipython3",
   "version": "3.12.7"
  }
 },
 "nbformat": 4,
 "nbformat_minor": 5
}
