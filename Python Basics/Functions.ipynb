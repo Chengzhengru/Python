{
 "cells": [
  {
   "cell_type": "markdown",
   "id": "7d758e95-a762-478a-917e-9064d2d4a14d",
   "metadata": {},
   "source": [
    "# Functions"
   ]
  },
  {
   "cell_type": "code",
   "execution_count": 2,
   "id": "b7f45c23-7c5a-42a8-a4bc-f4d700c6e124",
   "metadata": {},
   "outputs": [
    {
     "name": "stdout",
     "output_type": "stream",
     "text": [
      "Hello!\n"
     ]
    }
   ],
   "source": [
    "def great_user():\n",
    "    \"\"\"say heilo to me \"\"\"\n",
    "    print(\"Hello!\")\n",
    "\n",
    "great_user()"
   ]
  },
  {
   "cell_type": "code",
   "execution_count": 4,
   "id": "491ac27f-3234-49e2-858d-7ec4ac473dd0",
   "metadata": {},
   "outputs": [
    {
     "name": "stdout",
     "output_type": "stream",
     "text": [
      "Hello, Jesse!\n"
     ]
    }
   ],
   "source": [
    "def greet_user(user_name):\n",
    "    \"\"\"say hello to user\"\"\"\n",
    "    print(f\"Hello, {user_name.title()}!\")\n",
    "greet_user('jesse')"
   ]
  },
  {
   "cell_type": "code",
   "execution_count": 5,
   "id": "25184950-b278-4672-8641-f9682d90a905",
   "metadata": {},
   "outputs": [
    {
     "name": "stdout",
     "output_type": "stream",
     "text": [
      "The topic of this chapter is Functions.\n"
     ]
    }
   ],
   "source": [
    "def display_message(topic):\n",
    "    print(f\"The topic of this chapter is {topic.title()}.\")\n",
    "\n",
    "display_message(\"Functions\")"
   ]
  },
  {
   "cell_type": "code",
   "execution_count": 8,
   "id": "266d1939-c00b-4d90-96d5-a5fe75854c76",
   "metadata": {},
   "outputs": [
    {
     "name": "stdout",
     "output_type": "stream",
     "text": [
      "One of my favorite book is Alice In Wonderland.\n"
     ]
    }
   ],
   "source": [
    "def favorite_book(book_name):\n",
    "    print(f\"One of my favorite book is {book_name.title()}.\")\n",
    "\n",
    "favorite_book('alice in wonderland')\n",
    "    "
   ]
  },
  {
   "cell_type": "code",
   "execution_count": 9,
   "id": "c8d2e1fb-d5f6-401d-86e8-819c94fa17ed",
   "metadata": {},
   "outputs": [
    {
     "name": "stdout",
     "output_type": "stream",
     "text": [
      "\n",
      "I have a hamste.\n",
      "\n",
      "My hamste's name is Harry.\n"
     ]
    }
   ],
   "source": [
    "def describe_pet(animal_type, pet_name):\n",
    "    print(f\"\\nI have a {animal_type}.\")\n",
    "    print(f\"\\nMy {animal_type}'s name is {pet_name.title()}.\")\n",
    "\n",
    "describe_pet('hamste', 'harry')"
   ]
  },
  {
   "cell_type": "code",
   "execution_count": 10,
   "id": "3c6506fd-8a30-465c-b900-8c70380d8bcf",
   "metadata": {},
   "outputs": [
    {
     "name": "stdout",
     "output_type": "stream",
     "text": [
      "\n",
      "I have a hamster.\n",
      "My hamster's name is Harry.\n",
      "\n",
      "I have a dog.\n",
      "My dog's name is Willie.\n"
     ]
    }
   ],
   "source": [
    "def describe_pet(animal_type, pet_name):\n",
    "    print(f\"\\nI have a {animal_type}.\")\n",
    "    print(f\"My {animal_type}'s name is {pet_name.title()}.\")\n",
    "\n",
    "describe_pet('hamster', 'harry')\n",
    "describe_pet('dog', 'willie')"
   ]
  },
  {
   "cell_type": "code",
   "execution_count": 11,
   "id": "bb5240e0-d5cd-4bbe-9666-eb87c65ae8c7",
   "metadata": {},
   "outputs": [
    {
     "name": "stdout",
     "output_type": "stream",
     "text": [
      "\n",
      "I have a hamster.\n",
      "My hamster's name is Harry.\n"
     ]
    }
   ],
   "source": [
    "def describe_pet(animal_type, pet_name):\n",
    "    print(f\"\\nI have a {animal_type}.\")\n",
    "    print(f\"My {animal_type}'s name is {pet_name.title()}.\")\n",
    "\n",
    "describe_pet(animal_type='hamster', pet_name='harry')"
   ]
  },
  {
   "cell_type": "code",
   "execution_count": 13,
   "id": "b4a74e41-c162-4f0a-b75c-50ad1cc39f71",
   "metadata": {},
   "outputs": [
    {
     "name": "stdout",
     "output_type": "stream",
     "text": [
      "\n",
      "I have a dog.\n",
      "My dog's name is Willie.\n"
     ]
    }
   ],
   "source": [
    "def describe_pet(pet_name, animal_type='dog'):\n",
    "    print(f\"\\nI have a {animal_type}.\")\n",
    "    print(f\"My {animal_type}'s name is {pet_name.title()}.\")\n",
    "describe_pet('willie')"
   ]
  },
  {
   "cell_type": "code",
   "execution_count": 14,
   "id": "6344030c-e95e-46d6-9e70-715b99823d5b",
   "metadata": {},
   "outputs": [
    {
     "name": "stdout",
     "output_type": "stream",
     "text": [
      "\n",
      "I have a cat.\n",
      "My cat's name is Willie.\n"
     ]
    }
   ],
   "source": [
    "def describe_pet(pet_name, animal_type='dog'):\n",
    "    print(f\"\\nI have a {animal_type}.\")\n",
    "    print(f\"My {animal_type}'s name is {pet_name.title()}.\")\n",
    "describe_pet('willie', 'cat')"
   ]
  },
  {
   "cell_type": "code",
   "execution_count": 15,
   "id": "3a532618-fe80-4a8c-a19e-d4e50ba2a557",
   "metadata": {},
   "outputs": [
    {
     "name": "stdout",
     "output_type": "stream",
     "text": [
      "I wannna the size of L.\n",
      "Please print I LOVE YOU on my T-shirt.\n"
     ]
    }
   ],
   "source": [
    "def make_shirt(size, text):\n",
    "    print(f\"I wannna the size of {size.upper()}.\")\n",
    "    print(f\"Please print {text.upper()} on my T-shirt.\")\n",
    "\n",
    "make_shirt('l', 'i love you')"
   ]
  },
  {
   "cell_type": "code",
   "execution_count": 16,
   "id": "3487448c-3342-40db-a8e0-295454891e10",
   "metadata": {},
   "outputs": [
    {
     "name": "stdout",
     "output_type": "stream",
     "text": [
      "I wannna the size of M.\n",
      "Please print I LOVE PYTHON on my T-shirt.\n",
      "I wannna the size of T.\n",
      "Please print PYTHON IS INTERESTING on my T-shirt.\n"
     ]
    }
   ],
   "source": [
    "def make_shirt(size='t', text='I love python'):\n",
    "    print(f\"I wannna the size of {size.upper()}.\")\n",
    "    print(f\"Please print {text.upper()} on my T-shirt.\")\n",
    "\n",
    "make_shirt(size='m')\n",
    "make_shirt(text='python is interesting')"
   ]
  },
  {
   "cell_type": "code",
   "execution_count": 18,
   "id": "c63a32d5-a9ff-4e75-ac77-f4cfc5abd08c",
   "metadata": {},
   "outputs": [
    {
     "name": "stdout",
     "output_type": "stream",
     "text": [
      "Reykjavik is in Iceland.\n"
     ]
    }
   ],
   "source": [
    "def describe_city(name, country):\n",
    "    print(f\"{name.title()} is in {country.title()}.\")\n",
    "\n",
    "describe_city('reykjavik', 'iceland')"
   ]
  },
  {
   "cell_type": "code",
   "execution_count": 20,
   "id": "9010187d-8d3f-4aad-8b14-4e7a3a99da57",
   "metadata": {},
   "outputs": [
    {
     "name": "stdout",
     "output_type": "stream",
     "text": [
      "Jimi Hendrix\n"
     ]
    }
   ],
   "source": [
    "def get_formatted_name(first_name, last_name):\n",
    "    full_name = f\"{first_name} {last_name}\"\n",
    "    return full_name.title()\n",
    "\n",
    "musician = get_formatted_name('jimi', 'hendrix')\n",
    "print(musician)"
   ]
  },
  {
   "cell_type": "code",
   "execution_count": 23,
   "id": "0b2f10a5-182e-47f3-8f87-def144eb21d1",
   "metadata": {},
   "outputs": [
    {
     "name": "stdout",
     "output_type": "stream",
     "text": [
      "John Lee Hooker\n"
     ]
    }
   ],
   "source": [
    "def get_formatted_name(first_name, middle_name, last_name):\n",
    "    full_name = f\"{first_name} {middle_name} {last_name}\"\n",
    "    return full_name.title()\n",
    "\n",
    "musician = get_formatted_name('john', 'lee', 'hooker')\n",
    "print(musician)"
   ]
  },
  {
   "cell_type": "code",
   "execution_count": 26,
   "id": "4169d4a2-7e4a-46e6-9d9e-c5700b696225",
   "metadata": {},
   "outputs": [
    {
     "name": "stdout",
     "output_type": "stream",
     "text": [
      "Jimi Hendrix\n",
      "Jimi Lee Hooker\n"
     ]
    }
   ],
   "source": [
    "def get_formatted_name(first_name, last_name, middle_name=''):\n",
    "    if middle_name:\n",
    "        full_name = f\"{first_name} {middle_name} {last_name}\"\n",
    "    else:\n",
    "        full_name = f\"{first_name} {last_name}\"\n",
    "    return full_name.title()\n",
    "\n",
    "musician = get_formatted_name('jimi', 'hendrix')\n",
    "print(musician)\n",
    "\n",
    "musician = get_formatted_name('jimi', 'hooker', 'lee')\n",
    "print(musician)"
   ]
  },
  {
   "cell_type": "code",
   "execution_count": 27,
   "id": "d69c01ee-6f3d-41e7-833d-872998405e9f",
   "metadata": {},
   "outputs": [
    {
     "name": "stdout",
     "output_type": "stream",
     "text": [
      "{'first': 'jimi', 'last': 'hendrix'}\n"
     ]
    }
   ],
   "source": [
    "def build_person(first_name, last_name):\n",
    "    person = {'first': first_name, 'last': last_name}\n",
    "    return person \n",
    "\n",
    "musician = build_person('jimi', 'hendrix')\n",
    "print(musician)"
   ]
  },
  {
   "cell_type": "code",
   "execution_count": 28,
   "id": "ba81c307-f124-4770-bae3-67e2592f0d7c",
   "metadata": {},
   "outputs": [
    {
     "name": "stdout",
     "output_type": "stream",
     "text": [
      "{'first': 'jimi', 'last': 'hendrix', 'age': 27}\n"
     ]
    }
   ],
   "source": [
    "def build_person(first_name, last_name, age=None):\n",
    "    person = {'first': first_name, 'last': last_name}\n",
    "    if age:\n",
    "        person['age'] = age\n",
    "    return person\n",
    "\n",
    "musician = build_person('jimi', 'hendrix', age=27)\n",
    "print(musician)"
   ]
  },
  {
   "cell_type": "code",
   "execution_count": null,
   "id": "55294e54-b03f-4b3c-98b7-7f673f6f4963",
   "metadata": {},
   "outputs": [
    {
     "name": "stdout",
     "output_type": "stream",
     "text": [
      "\n",
      "Please tell me your name:\n"
     ]
    }
   ],
   "source": [
    "def get_formatted_name(first_name, last_name):\n",
    "    full_name = f\"{first_name} {last_name}\"\n",
    "    return full_name.title()\n",
    "\n",
    "while True:\n",
    "    print(\"\\nPlease tell me your name:\")\n",
    "    f_name = input(\"First name:\")\n",
    "    l_name = input(\"Last name:\")\n",
    "\n",
    "    formatted_name = get_formatted_name(f_name, l_name)\n",
    "    print(f\"\\nHello, {formatted_name}!\")"
   ]
  },
  {
   "cell_type": "code",
   "execution_count": null,
   "id": "afee1298-5c52-476c-beb8-b6b91121fa8f",
   "metadata": {},
   "outputs": [],
   "source": [
    "def get_formatted_name(first_name, last_name):\n",
    "    full_name = f\"{first_name} {last_name}\"\n",
    "    return full_name.title()\n",
    "\n",
    "while True:\n",
    "    print(\"\\nPlease tell me your name:\")\n",
    "    print(\"(enter 'q' at any time to quit}\")\n",
    "    \n",
    "    f_name = input(\"First name:\")\n",
    "    if f_name == 'q':\n",
    "        break\n",
    "    l_name = input(\"Last name:\")\n",
    "    if l_name == 'q':\n",
    "        break\n",
    "\n",
    "    formatted_name = get_formatted_name(f_name, l_name)\n",
    "    print(f\"\\nHello, {formatted_name}!\")"
   ]
  },
  {
   "cell_type": "code",
   "execution_count": 2,
   "id": "cba58776-8930-417e-924e-c89236e8dc0c",
   "metadata": {},
   "outputs": [
    {
     "name": "stdout",
     "output_type": "stream",
     "text": [
      "('Santiago', 'Chile')\n"
     ]
    }
   ],
   "source": [
    "def city_country(city, country):\n",
    "    full_name = f\"{city, country}\"\n",
    "    return full_name.title()\n",
    "\n",
    "funciton = city_country('santiago', 'chile')\n",
    "print(funciton)"
   ]
  },
  {
   "cell_type": "code",
   "execution_count": 9,
   "id": "6c5a7116-de42-42c0-a36f-740624b6b36f",
   "metadata": {},
   "outputs": [
    {
     "name": "stdout",
     "output_type": "stream",
     "text": [
      "{'Artist': 'Talor', 'Album': 'Swift', 'tracks': 'tracks'}\n",
      "{'Artist': 'Michael', 'Album': 'Lonely', 'tracks': 'tracks'}\n"
     ]
    }
   ],
   "source": [
    "def make_album(artist, album, tracks=None):\n",
    "    album_dict = {\"Artist\": artist.title(), \"Album\": album.title()}\n",
    "    if tracks:\n",
    "        album_dict[\"tracks\"] = 'tracks'\n",
    "        return album_dict\n",
    "\n",
    "print(make_album(\"talor\", \"swift\", \"1989\"))\n",
    "print(make_album(\"michael\", \"Lonely\", \"1999\"))"
   ]
  },
  {
   "cell_type": "code",
   "execution_count": null,
   "id": "b17b69ad-abfd-49a0-868f-ed0100c6a81c",
   "metadata": {},
   "outputs": [
    {
     "name": "stdout",
     "output_type": "stream",
     "text": [
      "\n",
      "Please enter artist and album name:\n",
      "Enter 'q' at any time to quit\n"
     ]
    }
   ],
   "source": [
    "def make_album(artist, album, tracks=None):\n",
    "    album_dict = {\"Artist\": artist.title(), \"Album\": album.title()}\n",
    "    if tracks:\n",
    "        album_dict[\"tracks\"] = 'tracks'\n",
    "        return album_dict\n",
    "\n",
    "while True:\n",
    "    print(\"\\nPlease enter artist and album name:\")\n",
    "    print(\"Enter 'q' at any time to quit\")\n",
    "\n",
    "    artist = input(\"artist_name:\")\n",
    "    if \"artist\" == 'q':\n",
    "        break\n",
    "\n",
    "    album = input(\"album_name:\")\n",
    "    if \"album\" == 'q':\n",
    "        break\n",
    "\n",
    "album_info = make_album(artist, album)\n",
    "print(f\"Album Information: {album_info}\")\n",
    "    \n",
    "    "
   ]
  },
  {
   "cell_type": "code",
   "execution_count": 2,
   "id": "a71c366c-ccc0-47d1-86e3-d5f1242fe24a",
   "metadata": {},
   "outputs": [
    {
     "name": "stdout",
     "output_type": "stream",
     "text": [
      "Hello, Hannah!\n",
      "Hello, Ty!\n",
      "Hello, Margot!\n"
     ]
    }
   ],
   "source": [
    "def greet_users(names):\n",
    "    for name in names:\n",
    "        msq = f\"Hello, {name.title()}!\"\n",
    "        print(msq)\n",
    "\n",
    "usernames = ['hannah', 'ty', 'margot']\n",
    "greet_users(usernames)"
   ]
  },
  {
   "cell_type": "code",
   "execution_count": 4,
   "id": "129f50b6-d956-4450-a5ef-fe64c454065a",
   "metadata": {},
   "outputs": [
    {
     "name": "stdout",
     "output_type": "stream",
     "text": [
      "Printing model: dodecahedron\n",
      "Printing model: robot pendant\n",
      "Printing model: phone case\n",
      "\n",
      "The following models have been printed:\n",
      "dodecahedron\n",
      "robot pendant\n",
      "phone case\n"
     ]
    }
   ],
   "source": [
    "def print_models(unprinted_designs, completed_models):\n",
    "\n",
    "    while unprinted_designs:\n",
    "        current_design = unprinted_designs.pop()\n",
    "        print(f\"Printing model: {current_design}\")\n",
    "        completed_models.append(current_design)\n",
    "\n",
    "def show_completed_models(completed_models):\n",
    "        print(\"\\nThe following models have been printed:\")\n",
    "        for completed_model in completed_models:\n",
    "            print(completed_model)\n",
    "\n",
    "unprinted_designs = ['phone case', 'robot pendant', 'dodecahedron']\n",
    "completed_models = []\n",
    "\n",
    "print_models(unprinted_designs, completed_models)\n",
    "show_completed_models(completed_models)"
   ]
  },
  {
   "cell_type": "code",
   "execution_count": 5,
   "id": "babeb4de-7eee-4861-9087-1ad3257ac58d",
   "metadata": {},
   "outputs": [
    {
     "name": "stdout",
     "output_type": "stream",
     "text": [
      "hello\n",
      "how are you\n",
      "how are you doing\n",
      "have a good day\n"
     ]
    }
   ],
   "source": [
    "def show_messages(messages):\n",
    "    for message in messages:\n",
    "        print(message)\n",
    "\n",
    "message = ['hello', 'how are you', 'how are you doing', 'have a good day']\n",
    "show_messages(message)"
   ]
  },
  {
   "cell_type": "code",
   "execution_count": 11,
   "id": "d847c779-feed-47ab-959a-9984e2e0aa91",
   "metadata": {},
   "outputs": [
    {
     "name": "stdout",
     "output_type": "stream",
     "text": [
      "\n",
      "Those messages are: have a good day\n",
      "\n",
      "Those messages are: how are you doing\n",
      "\n",
      "Those messages are: how are you\n",
      "\n",
      "Those messages are: hello\n",
      "The following messages have been already sent:\n",
      "have a good day\n",
      "how are you doing\n",
      "how are you\n",
      "hello\n"
     ]
    }
   ],
   "source": [
    "def show_messages(messages, sent_messages):\n",
    "    while messages:\n",
    "        current_messages = messages.pop()\n",
    "        print(f\"\\nThose messages are: {current_messages}\")\n",
    "        sent_messages.append(current_messages)\n",
    "\n",
    "def show_sent_messages(sent_messages):\n",
    "    print(f\"The following messages have been already sent:\")\n",
    "    for sent_message in sent_messages:\n",
    "        print(sent_message)\n",
    "\n",
    "messages = ['hello', 'how are you', 'how are you doing', 'have a good day']\n",
    "sent_messages = []\n",
    "\n",
    "show_messages(messages, sent_messages)\n",
    "show_sent_messages(sent_messages)"
   ]
  },
  {
   "cell_type": "code",
   "execution_count": 12,
   "id": "79313ffc-4605-4574-90d3-0ff8fc49db62",
   "metadata": {},
   "outputs": [
    {
     "name": "stdout",
     "output_type": "stream",
     "text": [
      "\n",
      "Sending message: hello\n",
      "\n",
      "Sending message: how are you\n",
      "\n",
      "Sending message: how are you doing\n",
      "\n",
      "Sending message: have a good day\n",
      "\n",
      "The following messages have already been sent:\n",
      "hello\n",
      "how are you\n",
      "how are you doing\n",
      "have a good day\n",
      "\n",
      "Original messages list: ['hello', 'how are you', 'how are you doing', 'have a good day']\n"
     ]
    }
   ],
   "source": [
    "def show_messages(messages, sent_messages):\n",
    "    while messages:\n",
    "        current_message = messages.pop(0)  # Remove element from the beginning\n",
    "        print(f\"\\nSending message: {current_message}\")\n",
    "        sent_messages.append(current_message)\n",
    "\n",
    "def show_sent_messages(sent_messages):\n",
    "    print(\"\\nThe following messages have already been sent:\")\n",
    "    for sent_message in sent_messages:\n",
    "        print(sent_message)\n",
    "\n",
    "# Create the messages list and the sent_messages list\n",
    "messages = ['hello', 'how are you', 'how are you doing', 'have a good day']\n",
    "sent_messages = []\n",
    "\n",
    "# Pass a copy of the messages list when calling the function\n",
    "show_messages(messages[:], sent_messages)\n",
    "show_sent_messages(sent_messages)\n",
    "\n",
    "# Print the original messages list to ensure it hasn't changed\n",
    "print(\"\\nOriginal messages list:\", messages)"
   ]
  },
  {
   "cell_type": "code",
   "execution_count": 2,
   "id": "664836fe-d391-4a3b-8080-d0e216182007",
   "metadata": {},
   "outputs": [
    {
     "name": "stdout",
     "output_type": "stream",
     "text": [
      "('pepperoni',)\n",
      "('mushrooms', 'green peppers', 'extra cheese')\n"
     ]
    }
   ],
   "source": [
    "def make_pizza(*toppings):\n",
    "    print(toppings)\n",
    "\n",
    "make_pizza('pepperoni')\n",
    "make_pizza('mushrooms', 'green peppers', 'extra cheese')"
   ]
  },
  {
   "cell_type": "code",
   "execution_count": 3,
   "id": "9142bde7-7d42-4aac-8b73-c210c0a277ba",
   "metadata": {},
   "outputs": [
    {
     "name": "stdout",
     "output_type": "stream",
     "text": [
      "\n",
      "Making a pizza wiht the following toppings:\n",
      " - pepperoni\n",
      "\n",
      "Making a pizza wiht the following toppings:\n",
      " - mushrooms\n",
      " - green peppers\n",
      " - extra cheese\n"
     ]
    }
   ],
   "source": [
    "def make_pizza(*toppings):\n",
    "    print(\"\\nMaking a pizza wiht the following toppings:\")\n",
    "    for topping in toppings:\n",
    "        print(f\" - {topping}\")\n",
    "\n",
    "make_pizza('pepperoni')\n",
    "make_pizza('mushrooms', 'green peppers', 'extra cheese')"
   ]
  },
  {
   "cell_type": "code",
   "execution_count": 4,
   "id": "ece67c29-c7ed-455b-aec7-99bd0875f2f1",
   "metadata": {},
   "outputs": [
    {
     "name": "stdout",
     "output_type": "stream",
     "text": [
      "\n",
      "Making a 16 - inch pizza with the following toppings:\n",
      " - pepperoni\n",
      "\n",
      "Making a 12 - inch pizza with the following toppings:\n",
      " - mushrooms\n",
      " - green peppers\n",
      " - extra cheese\n"
     ]
    }
   ],
   "source": [
    "def make_pizza(size, *toppings):\n",
    "    print(f\"\\nMaking a {size} - inch pizza with the following toppings:\")\n",
    "    for topping in toppings:\n",
    "        print(f\" - {topping}\")\n",
    "\n",
    "make_pizza(16, 'pepperoni')\n",
    "make_pizza(12, 'mushrooms', 'green peppers', 'extra cheese')"
   ]
  },
  {
   "cell_type": "code",
   "execution_count": 5,
   "id": "f235fd42-310f-47e0-82e3-692e8032fe81",
   "metadata": {},
   "outputs": [
    {
     "name": "stdout",
     "output_type": "stream",
     "text": [
      "{'location': 'princeton', 'field': 'physics', 'first_name': 'alber', 'last_name': 'einstein'}\n"
     ]
    }
   ],
   "source": [
    "def build_profile(first, last, **user_info):\n",
    "    user_info['first_name'] = first\n",
    "    user_info['last_name'] = last\n",
    "    return user_info\n",
    "\n",
    "user_profile = build_profile('alber', 'einstein', location = 'princeton', field = 'physics')\n",
    "print(user_profile)"
   ]
  },
  {
   "cell_type": "code",
   "execution_count": 6,
   "id": "b13f6bb7-b95b-4a11-8515-ff1c1816a268",
   "metadata": {},
   "outputs": [
    {
     "name": "stdout",
     "output_type": "stream",
     "text": [
      "\n",
      "Making a sandwich with the follwing ingredients:\n",
      "hamcheese\n",
      "lettuce\n",
      "\n",
      "Making a sandwich with the follwing ingredients:\n",
      "turkey\n",
      "bacon\n",
      "\n",
      "Making a sandwich with the follwing ingredients:\n",
      "tomato\n",
      "beef\n",
      "bacon\n",
      "mayo\n"
     ]
    }
   ],
   "source": [
    "def make_sandwich(*ingredients):\n",
    "    print(\"\\nMaking a sandwich with the follwing ingredients:\")\n",
    "    for ingredient in ingredients:\n",
    "        print(ingredient)\n",
    "\n",
    "make_sandwich('ham' 'cheese', 'lettuce')\n",
    "make_sandwich('turkey', 'bacon')\n",
    "make_sandwich('tomato', 'beef', 'bacon', 'mayo')"
   ]
  },
  {
   "cell_type": "code",
   "execution_count": 14,
   "id": "9d6583e4-b0ce-4e0f-9c59-fbc81768aa4d",
   "metadata": {},
   "outputs": [
    {
     "name": "stdout",
     "output_type": "stream",
     "text": [
      "My personal information are as follows:\n",
      "{'location': 'kyoto', 'country': 'japan', 'first': 'zhengru', 'last': 'cheng'}\n"
     ]
    }
   ],
   "source": [
    "def build_profile(first, last, **user_info):\n",
    "    print(f\"My personal information are as follows:\")\n",
    "    user_info['first'] = first\n",
    "    user_info['last'] = last\n",
    "    return user_info\n",
    "\n",
    "info = build_profile('zhengru', 'cheng', location = 'kyoto', country = 'japan')\n",
    "print(info)"
   ]
  },
  {
   "cell_type": "code",
   "execution_count": 17,
   "id": "21850d29-038d-41aa-912f-e2e1953fb094",
   "metadata": {},
   "outputs": [
    {
     "name": "stdout",
     "output_type": "stream",
     "text": [
      "\n",
      "The information of this car are as follows:\n",
      "{'color': 'blue', 'two_package': True, 'brand': 'subaru', 'place': 'outback'}\n"
     ]
    }
   ],
   "source": [
    "def make_car(brand, place, **color):\n",
    "    print(f\"\\nThe information of this car are as follows:\")\n",
    "    color['brand'] = brand\n",
    "    color['place'] = place\n",
    "    return color\n",
    "\n",
    "car = make_car('subaru', 'outback', color = 'blue', two_package=True)\n",
    "print(car)"
   ]
  },
  {
   "cell_type": "code",
   "execution_count": 16,
   "id": "fc58cdd8-0e7c-4934-8950-9de53d4a1d52",
   "metadata": {},
   "outputs": [
    {
     "name": "stdout",
     "output_type": "stream",
     "text": [
      "{'manufacturer': 'Subaru', 'model': 'Outback', 'color': 'blue', 'tow_package': True}\n"
     ]
    }
   ],
   "source": [
    "def make_car(manufacturer, model, **options):\n",
    "    \"\"\"Make a dictionary representing a car.\"\"\"\n",
    "    car_dict = {\n",
    "        'manufacturer': manufacturer.title(),\n",
    "        'model': model.title(),\n",
    "        }\n",
    "    for option, value in options.items():\n",
    "        car_dict[option] = value\n",
    "\n",
    "    return car_dict\n",
    "\n",
    "my_outback = make_car('subaru', 'outback', color='blue', tow_package=True)\n",
    "print(my_outback)"
   ]
  },
  {
   "cell_type": "code",
   "execution_count": 18,
   "id": "cce742bc-518d-4ff1-bc6c-50908fa8a2c6",
   "metadata": {},
   "outputs": [
    {
     "name": "stdout",
     "output_type": "stream",
     "text": [
      "\n",
      "The information of this car are as follows:\n",
      "{'color': 'blue', 'tow_package': True, 'brand': 'subaru', 'place': 'outback'}\n"
     ]
    }
   ],
   "source": [
    "def make_car(brand, place, **options):\n",
    "    print(f\"\\nThe information of this car are as follows:\")\n",
    "    options['brand'] = brand\n",
    "    options['place'] = place\n",
    "    return options\n",
    "\n",
    "car = make_car('subaru', 'outback', color='blue', tow_package=True)\n",
    "print(car)\n"
   ]
  },
  {
   "cell_type": "code",
   "execution_count": null,
   "id": "cfe808c9-6bb6-4a05-b2a7-9096e5641b78",
   "metadata": {},
   "outputs": [],
   "source": []
  }
 ],
 "metadata": {
  "kernelspec": {
   "display_name": "Python 3 (ipykernel)",
   "language": "python",
   "name": "python3"
  },
  "language_info": {
   "codemirror_mode": {
    "name": "ipython",
    "version": 3
   },
   "file_extension": ".py",
   "mimetype": "text/x-python",
   "name": "python",
   "nbconvert_exporter": "python",
   "pygments_lexer": "ipython3",
   "version": "3.12.7"
  }
 },
 "nbformat": 4,
 "nbformat_minor": 5
}
