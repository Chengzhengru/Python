{
 "cells": [
  {
   "cell_type": "markdown",
   "id": "87c89c3a-69a3-486a-a006-3da262c24366",
   "metadata": {},
   "source": [
    "# Variables, Numbers, and Comments"
   ]
  },
  {
   "cell_type": "code",
   "execution_count": 23,
   "id": "370ffe78-9c62-44b8-9330-6bf63dd3bd25",
   "metadata": {},
   "outputs": [
    {
     "name": "stdout",
     "output_type": "stream",
     "text": [
      "Hello Python world!\n"
     ]
    }
   ],
   "source": [
    "message = \"Hello Python world!\"\n",
    "print(message)"
   ]
  },
  {
   "cell_type": "code",
   "execution_count": 24,
   "id": "b0b48276-d6f6-42d5-bd71-5b28156f5864",
   "metadata": {},
   "outputs": [
    {
     "name": "stdout",
     "output_type": "stream",
     "text": [
      "Mary Anndouglas\n",
      "MARY ANNDOUGLAS\n",
      "mary anndouglas\n"
     ]
    }
   ],
   "source": [
    "name = \"mary anndouglas\"\n",
    "print(name.title())\n",
    "print(name.upper())\n",
    "print(name.lower())"
   ]
  },
  {
   "cell_type": "code",
   "execution_count": 33,
   "id": "6ef83c12-c36a-4ace-a124-90eec4a2bd86",
   "metadata": {},
   "outputs": [
    {
     "name": "stdout",
     "output_type": "stream",
     "text": [
      "mary douglas\n",
      "Hello, Mary Douglas!\n",
      "hello, Mary Douglas!\n"
     ]
    }
   ],
   "source": [
    "first_name = \"mary\"\n",
    "last_name = \"douglas\"\n",
    "full_name = f\"{first_name} {last_name}\"\n",
    "message = f\"hello, {full_name.title()}!\"\n",
    "print(full_name)\n",
    "print(f\"Hello, {full_name.title()}!\")\n",
    "print(message)"
   ]
  },
  {
   "cell_type": "code",
   "execution_count": 35,
   "id": "6e455f57-218a-4e2a-a04a-2f3b19a922f7",
   "metadata": {},
   "outputs": [
    {
     "name": "stdout",
     "output_type": "stream",
     "text": [
      "Python\n",
      "\tPython\n"
     ]
    }
   ],
   "source": [
    "print(\"Python\")\n",
    "print(\"\\tPython\")"
   ]
  },
  {
   "cell_type": "code",
   "execution_count": 39,
   "id": "9cd98d0d-851b-4c7e-9102-7d8a810a682b",
   "metadata": {},
   "outputs": [
    {
     "name": "stdout",
     "output_type": "stream",
     "text": [
      "Lanugaes: \n",
      "Python\n",
      "C\n",
      "JavaScript\n",
      "Lanuages: \n",
      "\tPython\n",
      "\tC\n",
      "\tJavascript\n"
     ]
    }
   ],
   "source": [
    "print(\"Lanugaes: \\nPython\\nC\\nJavaScript\")\n",
    "print(\"Lanuages: \\n\\tPython\\n\\tC\\n\\tJavascript\")"
   ]
  },
  {
   "cell_type": "code",
   "execution_count": 58,
   "id": "583293d1-bc39-487c-a2b3-d643d07a39a4",
   "metadata": {},
   "outputs": [
    {
     "data": {
      "text/plain": [
       "'Mary'"
      ]
     },
     "execution_count": 58,
     "metadata": {},
     "output_type": "execute_result"
    }
   ],
   "source": [
    "favorite_person = 'Mary   '\n",
    "favorite_person.rstrip()\n",
    "favorite_person = favorite_person.rstrip()\n",
    "favorite_person"
   ]
  },
  {
   "cell_type": "code",
   "execution_count": 62,
   "id": "01ff3f5e-926a-4043-806b-36b7ca300920",
   "metadata": {},
   "outputs": [
    {
     "data": {
      "text/plain": [
       "'Mary'"
      ]
     },
     "execution_count": 62,
     "metadata": {},
     "output_type": "execute_result"
    }
   ],
   "source": [
    "favorite_love = '     Mary'\n",
    "favorite_love.lstrip()"
   ]
  },
  {
   "cell_type": "code",
   "execution_count": 60,
   "id": "b8248d49-91ce-4449-be39-f870bf1f4dd8",
   "metadata": {},
   "outputs": [
    {
     "data": {
      "text/plain": [
       "'Mary'"
      ]
     },
     "execution_count": 60,
     "metadata": {},
     "output_type": "execute_result"
    }
   ],
   "source": [
    "favorite_love = '    Mary     '\n",
    "favorite_love.strip()"
   ]
  },
  {
   "cell_type": "code",
   "execution_count": 67,
   "id": "a112784f-5a26-4b7b-b9cb-20e2235afd06",
   "metadata": {},
   "outputs": [
    {
     "name": "stdout",
     "output_type": "stream",
     "text": [
      "nostarch.com\n"
     ]
    }
   ],
   "source": [
    "nostarchi_url = 'https://nostarch.com'\n",
    "nostarchi_url.removeprefix('https://')\n",
    "simple_url = nostarchi_url.removeprefix('https://')\n",
    "print(simple_url)"
   ]
  },
  {
   "cell_type": "code",
   "execution_count": 72,
   "id": "2b9dae8f-2e22-44e8-811f-0db1a306c225",
   "metadata": {},
   "outputs": [
    {
     "name": "stdout",
     "output_type": "stream",
     "text": [
      "Hello, Mary, would you like to learn some python today?\n"
     ]
    }
   ],
   "source": [
    "name = \"Mary\"\n",
    "print(f\"Hello, {name}, would you like to learn some python today?\")"
   ]
  },
  {
   "cell_type": "code",
   "execution_count": 73,
   "id": "2e868281-d962-4c2d-9709-d4ea879def5c",
   "metadata": {},
   "outputs": [
    {
     "name": "stdout",
     "output_type": "stream",
     "text": [
      "Cheng Zhengru\n",
      "CHENG ZHENGRU\n",
      "cheng zhengru\n"
     ]
    }
   ],
   "source": [
    "name = \"cheng zhengru\"\n",
    "print(name.title())\n",
    "print(name.upper())\n",
    "print(name.lower())"
   ]
  },
  {
   "cell_type": "code",
   "execution_count": 75,
   "id": "b61e4573-b465-4496-8b6b-8dca1a635a2c",
   "metadata": {},
   "outputs": [
    {
     "name": "stdout",
     "output_type": "stream",
     "text": [
      "Albert Einstein once said, \"A person who never made a mistake never tried anything new.\"\n"
     ]
    }
   ],
   "source": [
    "quote = 'Albert Einstein once said, \"A person who never made a mistake never tried anything new.\"'\n",
    "print(quote)"
   ]
  },
  {
   "cell_type": "code",
   "execution_count": 78,
   "id": "8fa69d28-5376-4509-bc19-d789e9edfd13",
   "metadata": {},
   "outputs": [
    {
     "name": "stdout",
     "output_type": "stream",
     "text": [
      "Albert Einstein once said, \"A person who never made a mistake never tried anything new.\"\n"
     ]
    }
   ],
   "source": [
    "famous_person = \"Albert Einstein\" \n",
    "message = f'{famous_person} once said, \"A person who never made a mistake never tried anything new.\"'\n",
    "print(message)"
   ]
  },
  {
   "cell_type": "code",
   "execution_count": 79,
   "id": "2eb5c3fe-7dd4-499d-962a-e8ed1f343025",
   "metadata": {},
   "outputs": [
    {
     "data": {
      "text/plain": [
       "'python.txt'"
      ]
     },
     "execution_count": 79,
     "metadata": {},
     "output_type": "execute_result"
    }
   ],
   "source": [
    "file_name = \"python.txt\"\n",
    "print(file_name.removeprefix(\".txt\"))"
   ]
  },
  {
   "cell_type": "code",
   "execution_count": 4,
   "id": "5be9bc92-2a45-4136-baab-9f80326ccf81",
   "metadata": {},
   "outputs": [
    {
     "name": "stdout",
     "output_type": "stream",
     "text": [
      "5\n",
      "1\n",
      "6\n",
      "0.6666666666666666\n"
     ]
    }
   ],
   "source": [
    "print(2 + 3)\n",
    "print(3 - 2)\n",
    "print(2 * 3)\n",
    "print(2 / 3)"
   ]
  },
  {
   "cell_type": "code",
   "execution_count": 5,
   "id": "62def4a0-c593-4e80-81c3-ea51e94dc5bb",
   "metadata": {},
   "outputs": [
    {
     "name": "stdout",
     "output_type": "stream",
     "text": [
      "0.30000000000000004\n",
      "0.2\n"
     ]
    }
   ],
   "source": [
    "print(0.1 + 0.2)\n",
    "print(0.1 * 2)"
   ]
  },
  {
   "cell_type": "code",
   "execution_count": 6,
   "id": "a1d4151c-d5f9-4c22-9b31-d0ae8e686a36",
   "metadata": {},
   "outputs": [
    {
     "name": "stdout",
     "output_type": "stream",
     "text": [
      "2.0\n",
      "3.0\n",
      "6.0\n",
      "8\n"
     ]
    }
   ],
   "source": [
    "print(4 / 2)\n",
    "print(1 + 2.0)\n",
    "print(2 * 3.0)\n",
    "print(2 ** 3)"
   ]
  },
  {
   "cell_type": "code",
   "execution_count": 8,
   "id": "04ceaea3-f4b8-4416-bc32-7b800fe04405",
   "metadata": {},
   "outputs": [
    {
     "name": "stdout",
     "output_type": "stream",
     "text": [
      "24000000111\n"
     ]
    }
   ],
   "source": [
    "my_age = 24_000000_111\n",
    "print(my_age)"
   ]
  },
  {
   "cell_type": "code",
   "execution_count": 14,
   "id": "0d326522-e7c4-4347-884d-64647656d5cf",
   "metadata": {},
   "outputs": [
    {
     "name": "stdout",
     "output_type": "stream",
     "text": [
      "1 2 3\n"
     ]
    }
   ],
   "source": [
    "x, y, z = 1, 2, 3\n",
    "print(x, y, z)"
   ]
  },
  {
   "cell_type": "code",
   "execution_count": 16,
   "id": "05d5357b-7117-41a2-a565-82cafb4ded2c",
   "metadata": {},
   "outputs": [
    {
     "name": "stdout",
     "output_type": "stream",
     "text": [
      "5000\n"
     ]
    }
   ],
   "source": [
    "MAX_CONNECTIONS = 5000\n",
    "print(MAX_CONNECTIONS)"
   ]
  },
  {
   "cell_type": "code",
   "execution_count": 17,
   "id": "9ec511a5-128f-4bdf-b2e2-7934a1032396",
   "metadata": {},
   "outputs": [
    {
     "name": "stdout",
     "output_type": "stream",
     "text": [
      "8\n",
      "8\n",
      "8\n",
      "8.0\n"
     ]
    }
   ],
   "source": [
    "print(5 + 3)\n",
    "print(10 - 2)\n",
    "print(2 * 4)\n",
    "print(16 / 2)"
   ]
  },
  {
   "cell_type": "code",
   "execution_count": 19,
   "id": "28667ec8-816c-40b2-b3d3-57fcff1c22a3",
   "metadata": {},
   "outputs": [
    {
     "name": "stdout",
     "output_type": "stream",
     "text": [
      "My favorite person is Mary\n"
     ]
    }
   ],
   "source": [
    "favorite_person = \"Mary\"\n",
    "message = f\"My favorite person is {favorite_person}\"\n",
    "print(message)"
   ]
  },
  {
   "cell_type": "code",
   "execution_count": 20,
   "id": "08a96cd6-370c-4e2b-903b-4707af872c30",
   "metadata": {},
   "outputs": [
    {
     "name": "stdout",
     "output_type": "stream",
     "text": [
      "Hello Python People!\n"
     ]
    }
   ],
   "source": [
    "# 向大家问好\n",
    "print(\"Hello Python People!\")"
   ]
  },
  {
   "cell_type": "code",
   "execution_count": null,
   "id": "9de7b595-2f17-408e-a549-ea138e3301fe",
   "metadata": {},
   "outputs": [],
   "source": []
  }
 ],
 "metadata": {
  "kernelspec": {
   "display_name": "Python 3 (ipykernel)",
   "language": "python",
   "name": "python3"
  },
  "language_info": {
   "codemirror_mode": {
    "name": "ipython",
    "version": 3
   },
   "file_extension": ".py",
   "mimetype": "text/x-python",
   "name": "python",
   "nbconvert_exporter": "python",
   "pygments_lexer": "ipython3",
   "version": "3.12.7"
  }
 },
 "nbformat": 4,
 "nbformat_minor": 5
}
