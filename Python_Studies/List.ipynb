{
 "cells": [
  {
   "cell_type": "markdown",
   "id": "865183dc-6510-49b6-b73c-ebbe0447ff7e",
   "metadata": {},
   "source": [
    "# List"
   ]
  },
  {
   "cell_type": "code",
   "execution_count": 1,
   "id": "76c0b8a8-7011-4d5a-a67f-738c10f09204",
   "metadata": {},
   "outputs": [
    {
     "name": "stdout",
     "output_type": "stream",
     "text": [
      "['trek', 'cannnodale', 'redline', 'specialized']\n"
     ]
    }
   ],
   "source": [
    "bicycles = ['trek', 'cannnodale', 'redline', 'specialized']\n",
    "print(bicycles)"
   ]
  },
  {
   "cell_type": "code",
   "execution_count": 3,
   "id": "edd481dd-ffd3-45dd-91ad-04ffd2ecd2f7",
   "metadata": {},
   "outputs": [
    {
     "name": "stdout",
     "output_type": "stream",
     "text": [
      "trek\n"
     ]
    }
   ],
   "source": [
    "bicycles = ['trek', 'cannodale', 'redline', 'specialized']\n",
    "print(bicycles[0])"
   ]
  },
  {
   "cell_type": "code",
   "execution_count": 6,
   "id": "5699d155-b529-42db-babe-1fb200b59070",
   "metadata": {},
   "outputs": [
    {
     "name": "stdout",
     "output_type": "stream",
     "text": [
      "Trek\n"
     ]
    }
   ],
   "source": [
    "bicycles = ['trek', 'cannodale', 'redline', 'specialized']\n",
    "print(bicycles[0].title())"
   ]
  },
  {
   "cell_type": "code",
   "execution_count": 7,
   "id": "24a7ec03-d4f9-4abb-8122-ca29e4b48c7a",
   "metadata": {},
   "outputs": [
    {
     "name": "stdout",
     "output_type": "stream",
     "text": [
      "cannodale\n",
      "specialized\n"
     ]
    }
   ],
   "source": [
    "bicycles = ['trek', 'cannodale', 'redline', 'specialized']\n",
    "print(bicycles[1])\n",
    "print(bicycles[3])"
   ]
  },
  {
   "cell_type": "code",
   "execution_count": 8,
   "id": "f7279185-8aaa-4ba8-90bb-c24c7df85732",
   "metadata": {},
   "outputs": [
    {
     "name": "stdout",
     "output_type": "stream",
     "text": [
      "specialized\n",
      "redline\n"
     ]
    }
   ],
   "source": [
    "bicycles = ['trek', 'cannodale', 'redline', 'specialized']\n",
    "print(bicycles[-1])\n",
    "print(bicycles[-2])"
   ]
  },
  {
   "cell_type": "code",
   "execution_count": 9,
   "id": "26e378ef-96ec-4b1f-8ae1-8c3099b9141e",
   "metadata": {},
   "outputs": [
    {
     "name": "stdout",
     "output_type": "stream",
     "text": [
      "my friend's bicycles is a Trek\n"
     ]
    }
   ],
   "source": [
    "bicycles = ['trek', 'cannodale', 'redline', 'specialized']\n",
    "message = f\"my friend's bicycles is a {bicycles[0].title()}\"\n",
    "print(message)"
   ]
  },
  {
   "cell_type": "code",
   "execution_count": 10,
   "id": "fc8a7c04-0acc-4720-9a7a-a4dd4b099d2e",
   "metadata": {},
   "outputs": [
    {
     "name": "stdout",
     "output_type": "stream",
     "text": [
      "mary1\n",
      "mary4\n"
     ]
    }
   ],
   "source": [
    "names = ['mary1', 'mary2', 'mary3', 'mary4']\n",
    "print(names[0])\n",
    "print(names[-1])"
   ]
  },
  {
   "cell_type": "code",
   "execution_count": 13,
   "id": "ae09e5e8-03e9-46b9-917a-dc5bc2cc6b3e",
   "metadata": {},
   "outputs": [
    {
     "name": "stdout",
     "output_type": "stream",
     "text": [
      "Hello, Mary1 how are you doing\n"
     ]
    }
   ],
   "source": [
    "names = ['mary1', 'mary2', 'mary3', 'mary4']\n",
    "message = f\"Hello, {names[0].title()} how are you doing\"\n",
    "print(message)"
   ]
  },
  {
   "cell_type": "code",
   "execution_count": 14,
   "id": "1a23f4eb-5de8-427c-856a-1f79193189fb",
   "metadata": {},
   "outputs": [
    {
     "name": "stdout",
     "output_type": "stream",
     "text": [
      "I would like to own a xiaomi\n"
     ]
    }
   ],
   "source": [
    "cars = ['Xiaomi', 'BYD', 'HongQi']\n",
    "wish = f\"I would like to own a {cars[0].lower()}\"\n",
    "print(wish)"
   ]
  },
  {
   "cell_type": "code",
   "execution_count": 15,
   "id": "f4199813-525e-407e-9076-ebf082430f74",
   "metadata": {},
   "outputs": [
    {
     "name": "stdout",
     "output_type": "stream",
     "text": [
      "['honda', 'yamaha', 'suszuki']\n",
      "['ducati', 'yamaha', 'suszuki']\n"
     ]
    }
   ],
   "source": [
    "motorcycles = ['honda', 'yamaha', 'suszuki']\n",
    "print(motorcycles)\n",
    "motorcycles[0] = 'ducati'\n",
    "print(motorcycles)"
   ]
  },
  {
   "cell_type": "code",
   "execution_count": 16,
   "id": "fc3f75d2-a0d2-4d91-b671-535fd68f15fd",
   "metadata": {},
   "outputs": [
    {
     "name": "stdout",
     "output_type": "stream",
     "text": [
      "['honda', 'yamaha', 'suzuki']\n",
      "['honda', 'yamaha', 'suzuki', 'ducati']\n"
     ]
    }
   ],
   "source": [
    "motorcycles = ['honda', 'yamaha', 'suzuki']\n",
    "print(motorcycles)\n",
    "motorcycles.append('ducati')\n",
    "print(motorcycles)"
   ]
  },
  {
   "cell_type": "code",
   "execution_count": 20,
   "id": "5071b245-8ca5-4dc2-9c77-c7cd98bcf0dc",
   "metadata": {},
   "outputs": [
    {
     "name": "stdout",
     "output_type": "stream",
     "text": [
      "['honda', 'yamaha', 'suzuki']\n"
     ]
    }
   ],
   "source": [
    "motorcyles = []\n",
    "motorcyles.append('honda')\n",
    "motorcyles.append('yamaha')\n",
    "motorcyles.append('suzuki')\n",
    "print(motorcyles)"
   ]
  },
  {
   "cell_type": "code",
   "execution_count": 21,
   "id": "99f541ea-cf94-4e15-adfc-20a74061ae2f",
   "metadata": {},
   "outputs": [
    {
     "name": "stdout",
     "output_type": "stream",
     "text": [
      "['ducati', 'honda', 'yamaha', 'suzuki']\n"
     ]
    }
   ],
   "source": [
    "motorcycles = ['honda', 'yamaha', 'suzuki']\n",
    "motorcycles.insert(0, 'ducati')\n",
    "print(motorcycles)"
   ]
  },
  {
   "cell_type": "code",
   "execution_count": 22,
   "id": "e3f34fec-f147-480a-842a-d5a7aefad133",
   "metadata": {},
   "outputs": [
    {
     "name": "stdout",
     "output_type": "stream",
     "text": [
      "['honda', 'yamaha', 'suzuki']\n",
      "['yamaha', 'suzuki']\n"
     ]
    }
   ],
   "source": [
    "motorcycles = ['honda', 'yamaha', 'suzuki']\n",
    "print(motorcycles)\n",
    "del motorcycles[0]\n",
    "print(motorcycles)"
   ]
  },
  {
   "cell_type": "code",
   "execution_count": 24,
   "id": "5e5737ad-c521-4a13-9bf2-46c6eb7aab83",
   "metadata": {},
   "outputs": [
    {
     "name": "stdout",
     "output_type": "stream",
     "text": [
      "['honda', 'yamaha', 'suzuki']\n",
      "['honda', 'yamaha']\n",
      "suzuki\n"
     ]
    }
   ],
   "source": [
    "motorcycles = ['honda', 'yamaha', 'suzuki']\n",
    "print(motorcycles)\n",
    "\n",
    "popped_motorcycles = motorcycles.pop()\n",
    "print(motorcycles)\n",
    "print(popped_motorcycles)"
   ]
  },
  {
   "cell_type": "code",
   "execution_count": 27,
   "id": "20cec641-b5a9-4130-abbb-46bfb4e0aeaa",
   "metadata": {},
   "outputs": [
    {
     "name": "stdout",
     "output_type": "stream",
     "text": [
      "The last motorcycle I ownded was a Suzuki\n"
     ]
    }
   ],
   "source": [
    "motorcycles = ['honda', 'yamaha', 'suzuki']\n",
    "last_owned = motorcycles.pop()\n",
    "print(f\"The last motorcycle I ownded was a {last_owned.title()}\")"
   ]
  },
  {
   "cell_type": "code",
   "execution_count": 28,
   "id": "5e90bf86-146b-484a-a933-6d1467a2f734",
   "metadata": {},
   "outputs": [
    {
     "name": "stdout",
     "output_type": "stream",
     "text": [
      "The first motorcycle I owned was a suzuki\n"
     ]
    }
   ],
   "source": [
    "motorcycles = ['honda', 'yamaha', 'suzuki']\n",
    "first_owned = motorcycles.pop()\n",
    "print(f\"The first motorcycle I owned was a {first_owned}\")"
   ]
  },
  {
   "cell_type": "code",
   "execution_count": 32,
   "id": "5edd996b-5588-4097-b318-29843eeb0d18",
   "metadata": {},
   "outputs": [
    {
     "name": "stdout",
     "output_type": "stream",
     "text": [
      "['honda', 'yamaha', 'suzuki', 'ducati']\n",
      "['honda', 'yamaha', 'suzuki']\n"
     ]
    }
   ],
   "source": [
    "motorcycles = ['honda', 'yamaha', 'suzuki', 'ducati']\n",
    "print(motorcycles)\n",
    "\n",
    "motorcycles.remove('ducati')\n",
    "print(motorcycles)"
   ]
  },
  {
   "cell_type": "code",
   "execution_count": 33,
   "id": "26b7c618-2a4e-44eb-b045-6b79b4497a3a",
   "metadata": {},
   "outputs": [
    {
     "name": "stdout",
     "output_type": "stream",
     "text": [
      "['honda', 'yamaha', 'suzuki', 'ducati']\n",
      "['honda', 'yamaha', 'suzuki']\n",
      "\n",
      "A Ducati is too expensive for me.\n"
     ]
    }
   ],
   "source": [
    "motorcycles = ['honda', 'yamaha', 'suzuki', 'ducati']\n",
    "print(motorcycles)\n",
    "\n",
    "too_expensive = 'ducati'\n",
    "motorcycles.remove(too_expensive)\n",
    "print(motorcycles)\n",
    "print(f\"\\nA {too_expensive.title()} is too expensive for me.\")"
   ]
  },
  {
   "cell_type": "code",
   "execution_count": 34,
   "id": "89fa6954-ead4-4c5a-9498-b0fadc7ee018",
   "metadata": {},
   "outputs": [
    {
     "name": "stdout",
     "output_type": "stream",
     "text": [
      "Hi, mary1 can you join my dinner\n"
     ]
    }
   ],
   "source": [
    "guests = ['mary1', 'mary2', 'mary3', 'mary4']\n",
    "\n",
    "print(f\"Hi, {guests[0]} can you join my dinner\")"
   ]
  },
  {
   "cell_type": "code",
   "execution_count": 35,
   "id": "b910b11c-dadf-4d78-a2ba-13006e6e1c74",
   "metadata": {},
   "outputs": [
    {
     "name": "stdout",
     "output_type": "stream",
     "text": [
      "['mary5', 'mary2', 'mary3', 'mary4']\n",
      "Hi, mary5 welcome you to join our party\n"
     ]
    }
   ],
   "source": [
    "guests = ['mary1', 'mary2', 'mary3', 'mary4']\n",
    "\n",
    "guests[0] = 'mary5'\n",
    "print(guests)\n",
    "print(f\"Hi, {guests[0]} welcome you to join our party\")"
   ]
  },
  {
   "cell_type": "code",
   "execution_count": 50,
   "id": "313ae59b-cf63-4e96-a9f0-55c31c720900",
   "metadata": {},
   "outputs": [
    {
     "name": "stdout",
     "output_type": "stream",
     "text": [
      "['mary5', 'mary1', 'mary2', 'mary6', 'mary3', 'mary4', 'mary7']\n",
      "Due to table issues, only two guests can be invited\n",
      "I am so sorry to tell you, mary7 we can't invite you\n",
      "I am so happy to tell you guys, ['mary5', 'mary1', 'mary2', 'mary6', 'mary3', 'mary4'], you are all welcoming to join my party!\n",
      "[]\n"
     ]
    }
   ],
   "source": [
    "guests = ['mary1', 'mary2', 'mary3', 'mary4']\n",
    "\n",
    "guests.insert(0, 'mary5')\n",
    "guests.insert(3, 'mary6')\n",
    "guests.append('mary7')\n",
    "print(guests)\n",
    "print(\"Due to table issues, only two guests can be invited\")\n",
    "unlucky_guest = guests.pop()\n",
    "print(f\"I am so sorry to tell you, {unlucky_guest} we can't invite you\")\n",
    "print(f\"I am so happy to tell you guys, {guests}, you are all welcoming to join my party!\")\n",
    "del guests[:]\n",
    "print(guests)"
   ]
  },
  {
   "cell_type": "code",
   "execution_count": 52,
   "id": "b6eb00e4-049f-466c-baa7-361902342790",
   "metadata": {},
   "outputs": [
    {
     "name": "stdout",
     "output_type": "stream",
     "text": [
      "['audi', 'bmw', 'subaru', 'toyota']\n"
     ]
    }
   ],
   "source": [
    "cars = ['bmw', 'audi', 'toyota', 'subaru']\n",
    "cars.sort()\n",
    "print(cars)"
   ]
  },
  {
   "cell_type": "code",
   "execution_count": 53,
   "id": "4a10a634-0bc9-4316-bb7a-b7f2b361fb5f",
   "metadata": {},
   "outputs": [
    {
     "name": "stdout",
     "output_type": "stream",
     "text": [
      "['toyota', 'subaru', 'bmw', 'audi']\n"
     ]
    }
   ],
   "source": [
    "cars = ['bmw', 'audi', 'toyota', 'subaru']\n",
    "cars.sort(reverse=True)\n",
    "print(cars)"
   ]
  },
  {
   "cell_type": "code",
   "execution_count": 56,
   "id": "38371c69-9700-4450-877a-0e91bef8fac9",
   "metadata": {},
   "outputs": [
    {
     "name": "stdout",
     "output_type": "stream",
     "text": [
      "Here is the original list:\n",
      "['bmw', 'audi', 'toyota', 'subaru']\n",
      "\n",
      "Here is the sorted list:\n",
      "['audi', 'bmw', 'subaru', 'toyota']\n",
      "\n",
      "Here is the original lsit again:\n",
      "['bmw', 'audi', 'toyota', 'subaru']\n"
     ]
    }
   ],
   "source": [
    "cars = ['bmw', 'audi', 'toyota', 'subaru']\n",
    "\n",
    "print(\"Here is the original list:\")\n",
    "print(cars)\n",
    "print(\"\\nHere is the sorted list:\")\n",
    "print(sorted(cars))\n",
    "print(\"\\nHere is the original lsit again:\")\n",
    "print(cars)"
   ]
  },
  {
   "cell_type": "code",
   "execution_count": 58,
   "id": "7b0e237f-9406-4fbd-8c00-c4e79b78e523",
   "metadata": {},
   "outputs": [
    {
     "name": "stdout",
     "output_type": "stream",
     "text": [
      "['bmw', 'audi', 'toyota', 'subaru']\n",
      "['subaru', 'toyota', 'audi', 'bmw']\n"
     ]
    },
    {
     "data": {
      "text/plain": [
       "4"
      ]
     },
     "execution_count": 58,
     "metadata": {},
     "output_type": "execute_result"
    }
   ],
   "source": [
    "cars = ['bmw', 'audi', 'toyota', 'subaru']\n",
    "print(cars)\n",
    "\n",
    "cars.reverse()\n",
    "print(cars)\n",
    "len(cars)"
   ]
  },
  {
   "cell_type": "code",
   "execution_count": 66,
   "id": "b242909c-08bd-4953-b8ef-82f64a466b3e",
   "metadata": {},
   "outputs": [
    {
     "name": "stdout",
     "output_type": "stream",
     "text": [
      "['beijing', 'xian', 'shanxi', 'tibet', 'xinjiang']\n",
      "['beijing', 'shanxi', 'tibet', 'xian', 'xinjiang']\n",
      "['toyota', 'subaru', 'bmw', 'audi']\n"
     ]
    },
    {
     "data": {
      "text/plain": [
       "4"
      ]
     },
     "execution_count": 66,
     "metadata": {},
     "output_type": "execute_result"
    }
   ],
   "source": [
    "places = ['beijing', 'xian', 'shanxi', 'tibet', 'xinjiang']\n",
    "print(places)\n",
    "print(sorted(places))\n",
    "cars.sort(reverse=True)\n",
    "print(cars)\n",
    "len(cars)"
   ]
  }
 ],
 "metadata": {
  "kernelspec": {
   "display_name": "Python 3 (ipykernel)",
   "language": "python",
   "name": "python3"
  },
  "language_info": {
   "codemirror_mode": {
    "name": "ipython",
    "version": 3
   },
   "file_extension": ".py",
   "mimetype": "text/x-python",
   "name": "python",
   "nbconvert_exporter": "python",
   "pygments_lexer": "ipython3",
   "version": "3.12.7"
  }
 },
 "nbformat": 4,
 "nbformat_minor": 5
}
