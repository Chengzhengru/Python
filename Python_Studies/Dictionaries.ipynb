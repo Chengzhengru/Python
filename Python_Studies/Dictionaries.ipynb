{
 "cells": [
  {
   "cell_type": "markdown",
   "id": "fff98b33-2ae2-4e51-9893-94cf90ba7351",
   "metadata": {},
   "source": [
    "# Dictionaries"
   ]
  },
  {
   "cell_type": "code",
   "execution_count": 2,
   "id": "de0b0826-c529-4890-81dd-1cc75e2ea47e",
   "metadata": {},
   "outputs": [
    {
     "name": "stdout",
     "output_type": "stream",
     "text": [
      "green\n",
      "5\n"
     ]
    }
   ],
   "source": [
    "alien_0 = {'color': 'green', 'points':5}\n",
    "\n",
    "print(alien_0['color'])\n",
    "print(alien_0['points'])"
   ]
  },
  {
   "cell_type": "code",
   "execution_count": 3,
   "id": "70084f6b-5685-4d08-af22-f6826a9b2f85",
   "metadata": {},
   "outputs": [
    {
     "name": "stdout",
     "output_type": "stream",
     "text": [
      "green\n"
     ]
    }
   ],
   "source": [
    "aline_0 = {'color': 'green', 'points': 5}\n",
    "print(alien_0['color'])"
   ]
  },
  {
   "cell_type": "code",
   "execution_count": 4,
   "id": "af402a05-c74e-478b-a762-bfb50575a377",
   "metadata": {},
   "outputs": [
    {
     "name": "stdout",
     "output_type": "stream",
     "text": [
      "You just earned 15 points!\n"
     ]
    }
   ],
   "source": [
    "alien_0 = {'color': 'green', 'points': 15}\n",
    "new_points = alien_0['points']\n",
    "print(f\"You just earned {new_points} points!\")"
   ]
  },
  {
   "cell_type": "code",
   "execution_count": 5,
   "id": "35feac3f-3fb5-4187-bb5e-092154790499",
   "metadata": {},
   "outputs": [
    {
     "name": "stdout",
     "output_type": "stream",
     "text": [
      "{'color': 'green', 'points': 15}\n",
      "{'color': 'green', 'points': 15, 'x_position': 0, 'y_position': 25}\n"
     ]
    }
   ],
   "source": [
    "aline_0 = {'color': 'green', 'points': 15}\n",
    "\n",
    "print(alien_0)\n",
    "\n",
    "alien_0['x_position'] = 0\n",
    "alien_0['y_position'] = 25\n",
    "\n",
    "print(alien_0)"
   ]
  },
  {
   "cell_type": "code",
   "execution_count": 8,
   "id": "e1c16370-ca77-4987-aa30-2a8b2f1cf62b",
   "metadata": {},
   "outputs": [
    {
     "name": "stdout",
     "output_type": "stream",
     "text": [
      "{'color': 'green', 'points': 5, 'x_position': 0, 'y_position': 25}\n"
     ]
    }
   ],
   "source": [
    "aline_0 = {}\n",
    "alien_0['color'] = 'green'\n",
    "alien_0['points'] = 5\n",
    "\n",
    "print(alien_0)"
   ]
  },
  {
   "cell_type": "code",
   "execution_count": 10,
   "id": "fa94ae12-1098-44dc-8b33-e4754127b41c",
   "metadata": {},
   "outputs": [
    {
     "name": "stdout",
     "output_type": "stream",
     "text": [
      "The color is green.\n",
      "The color is yellow.\n"
     ]
    }
   ],
   "source": [
    "alien_0 = {'color': 'green'}\n",
    "\n",
    "print(f\"The color is {alien_0['color']}.\")\n",
    "\n",
    "alien_0['color'] = 'yellow'\n",
    "print(f\"The color is {alien_0['color']}.\")"
   ]
  },
  {
   "cell_type": "code",
   "execution_count": 11,
   "id": "ec100d88-d6c0-4199-9bcb-fa2bc72821f7",
   "metadata": {},
   "outputs": [
    {
     "name": "stdout",
     "output_type": "stream",
     "text": [
      "Original postion: 0\n",
      "New position: 2\n"
     ]
    }
   ],
   "source": [
    "alien_0 = {'x_position': 0, 'y_position': 25, 'speed': 'medium'}\n",
    "print(f\"Original postion: {alien_0['x_position']}\")\n",
    "\n",
    "if alien_0['speed'] == 'slow':\n",
    "    x_increment = 1\n",
    "elif alien_0['speed'] == 'medium':\n",
    "    x_increment = 2\n",
    "else:\n",
    "    x_increment = 3\n",
    "\n",
    "alien_0['x_position'] = alien_0['x_position'] + x_increment\n",
    "print(f\"New position: {alien_0['x_position']}\")"
   ]
  },
  {
   "cell_type": "code",
   "execution_count": 15,
   "id": "418c75e3-4115-4a11-b278-0b12c8b920ef",
   "metadata": {},
   "outputs": [
    {
     "name": "stdout",
     "output_type": "stream",
     "text": [
      "{'color': 'green', 'points': 5}\n",
      "{'color': 'green'}\n"
     ]
    }
   ],
   "source": [
    "alien_0 = {'color': 'green', 'points': 5}\n",
    "print(alien_0)\n",
    "\n",
    "del alien_0['points']\n",
    "print(alien_0)"
   ]
  },
  {
   "cell_type": "code",
   "execution_count": 17,
   "id": "2f1a9232-8e8b-4051-82a4-89526627dae8",
   "metadata": {},
   "outputs": [
    {
     "name": "stdout",
     "output_type": "stream",
     "text": [
      "Sarah's favorite language is C.\n"
     ]
    }
   ],
   "source": [
    "favorite_languages = {'jen': 'python', 'sarah': 'c', 'edward': 'rust', 'phil': 'python',}\n",
    "language = favorite_languages['sarah'].title()\n",
    "print(f\"Sarah's favorite language is {language}.\")"
   ]
  },
  {
   "cell_type": "code",
   "execution_count": 18,
   "id": "57eb0031-3709-4a79-9309-150bde5b7fd4",
   "metadata": {},
   "outputs": [
    {
     "name": "stdout",
     "output_type": "stream",
     "text": [
      "Sarah's favorite language is C.\n"
     ]
    }
   ],
   "source": [
    "favorite_languages = {\n",
    "    'jen': 'python',\n",
    "    'sarah': 'c',\n",
    "    'edward': 'rust',\n",
    "    'phil': 'python',\n",
    "    }\n",
    "language = favorite_languages['sarah'].title()\n",
    "print(f\"Sarah's favorite language is {language}.\")"
   ]
  },
  {
   "cell_type": "code",
   "execution_count": 19,
   "id": "b31f4e3c-ce52-4c75-a939-94aa8dc53bef",
   "metadata": {},
   "outputs": [
    {
     "ename": "KeyError",
     "evalue": "'points'",
     "output_type": "error",
     "traceback": [
      "\u001b[0;31m---------------------------------------------------------------------------\u001b[0m",
      "\u001b[0;31mKeyError\u001b[0m                                  Traceback (most recent call last)",
      "Cell \u001b[0;32mIn[19], line 2\u001b[0m\n\u001b[1;32m      1\u001b[0m alien_0 \u001b[38;5;241m=\u001b[39m {\u001b[38;5;124m'\u001b[39m\u001b[38;5;124mcolor\u001b[39m\u001b[38;5;124m'\u001b[39m: \u001b[38;5;124m'\u001b[39m\u001b[38;5;124mgreen\u001b[39m\u001b[38;5;124m'\u001b[39m, \u001b[38;5;124m'\u001b[39m\u001b[38;5;124mspeed\u001b[39m\u001b[38;5;124m'\u001b[39m: \u001b[38;5;124m'\u001b[39m\u001b[38;5;124mslow\u001b[39m\u001b[38;5;124m'\u001b[39m}\n\u001b[0;32m----> 2\u001b[0m \u001b[38;5;28mprint\u001b[39m(alien_0[\u001b[38;5;124m'\u001b[39m\u001b[38;5;124mpoints\u001b[39m\u001b[38;5;124m'\u001b[39m])\n",
      "\u001b[0;31mKeyError\u001b[0m: 'points'"
     ]
    }
   ],
   "source": [
    "alien_0 = {'color': 'green', 'speed': 'slow'}\n",
    "print(alien_0['points'])"
   ]
  },
  {
   "cell_type": "code",
   "execution_count": 21,
   "id": "3af2a898-b2c9-49e8-a68a-5bb016732406",
   "metadata": {},
   "outputs": [
    {
     "name": "stdout",
     "output_type": "stream",
     "text": [
      "No point value assigned.\n"
     ]
    }
   ],
   "source": [
    "alien_o = {'color': 'green', 'speed': 'slow'}\n",
    "\n",
    "point_value = alien_0.get('points', 'No point value assigned.')\n",
    "print(point_value)"
   ]
  },
  {
   "cell_type": "code",
   "execution_count": 28,
   "id": "e0a574b5-128d-490d-be26-ea13ae823dd7",
   "metadata": {},
   "outputs": [
    {
     "name": "stdout",
     "output_type": "stream",
     "text": [
      "Zhengru\n",
      "Cheng\n",
      "Luan\n",
      "25\n"
     ]
    }
   ],
   "source": [
    "information = {'first_name': 'zhengru', 'last_name': 'cheng', 'age': 25, 'city': 'luan'}\n",
    "print(information['first_name'].title())\n",
    "print(information['last_name'].title())\n",
    "print(information['city'].title())\n",
    "print(information['age'])"
   ]
  },
  {
   "cell_type": "code",
   "execution_count": 34,
   "id": "c06bcad4-5ecb-4bc9-b538-95d5e8c3b829",
   "metadata": {},
   "outputs": [
    {
     "name": "stdout",
     "output_type": "stream",
     "text": [
      "Mary's favorite number is 27.\n",
      "Bob's favorite number is 30.\n",
      "John's favorite number is 20.\n",
      "Kate's favorite number is 18.\n",
      "April's favorite number is 22.\n"
     ]
    }
   ],
   "source": [
    "favorite_numbers = {\n",
    "    'mary': 27,\n",
    "    'bob': 30,\n",
    "    'john': 20,\n",
    "    'kate': 18,\n",
    "    'april': 22,\n",
    "    }\n",
    "for name in favorite_numbers:\n",
    "    print(f\"{name.title()}'s favorite number is {favorite_numbers[name]}.\")"
   ]
  },
  {
   "cell_type": "code",
   "execution_count": 30,
   "id": "aa8d5de9-9b69-40e2-ad28-112d0c22b5a0",
   "metadata": {},
   "outputs": [
    {
     "name": "stdout",
     "output_type": "stream",
     "text": [
      "Mary's favorite number is 27.\n",
      "Bob's favorite number is 30.\n",
      "John's favorite number is 20.\n",
      "Kate's favorite number is 18.\n",
      "April's favorite number is 22.\n"
     ]
    }
   ],
   "source": [
    "favorite_numbers = {\n",
    "    'mary': 27,\n",
    "    'bob': 30,\n",
    "    'john': 20,\n",
    "    'kate': 18,\n",
    "    'april': 22,\n",
    "    }\n",
    "\n",
    "for name in favorite_numbers:\n",
    "    print(f\"{name.title()}'s favorite number is {favorite_numbers[name]}.\")"
   ]
  },
  {
   "cell_type": "code",
   "execution_count": 31,
   "id": "dd9384a2-d594-4466-8a85-0d04d7cb82b5",
   "metadata": {},
   "outputs": [
    {
     "name": "stdout",
     "output_type": "stream",
     "text": [
      "mary\n",
      "bob\n",
      "john\n",
      "kate\n",
      "april\n"
     ]
    }
   ],
   "source": [
    "favorite_numbers = {\n",
    "    'mary': 27,\n",
    "    'bob': 30,\n",
    "    'john': 20,\n",
    "    'kate': 18,\n",
    "    'april': 22,\n",
    "}\n",
    "\n",
    "for name in favorite_numbers:\n",
    "    print(name)  # name is a parameter instead of a function"
   ]
  },
  {
   "cell_type": "code",
   "execution_count": 36,
   "id": "f5371a44-43ae-400e-93cd-e82b805d27c9",
   "metadata": {},
   "outputs": [
    {
     "name": "stdout",
     "output_type": "stream",
     "text": [
      "\n",
      "Python:\n",
      "A high-level programming language known for readability.\n",
      "\n",
      "JavaScript:\n",
      "A versatile language primarily used for web development.\n",
      "\n",
      "Java:\n",
      "A widely-used language especially popular in large systems.\n",
      "\n",
      "C++:\n",
      "An extension of C known for performance and system-level programming.\n",
      "\n",
      "Ruby:\n",
      "A language known for its simplicity and productivity.\n"
     ]
    }
   ],
   "source": [
    "programming_languages = {\n",
    "    \"Python\": \"A high-level programming language known for readability.\",\n",
    "    \"JavaScript\": \"A versatile language primarily used for web development.\",\n",
    "    \"Java\": \"A widely-used language especially popular in large systems.\",\n",
    "    \"C++\": \"An extension of C known for performance and system-level programming.\",\n",
    "    \"Ruby\": \"A language known for its simplicity and productivity.\"\n",
    "}\n",
    "\n",
    "for language, description in programming_languages.items():\n",
    "    print(f\"\\n{language}:\")\n",
    "    print(f\"{description}\")"
   ]
  },
  {
   "cell_type": "code",
   "execution_count": 37,
   "id": "9ac775df-c753-46da-8320-c1fe1a220ba5",
   "metadata": {},
   "outputs": [
    {
     "name": "stdout",
     "output_type": "stream",
     "text": [
      "\n",
      "Python:\n",
      "    A high-level programming language known for readability.\n",
      "\n",
      "JavaScript:\n",
      "    A versatile language primarily used for web development.\n",
      "\n",
      "Java:\n",
      "    A widely-used language especially popular in large systems.\n",
      "\n",
      "C++:\n",
      "    An extension of C known for performance and system-level programming.\n",
      "\n",
      "Ruby:\n",
      "    A language known for its simplicity and productivity.\n"
     ]
    }
   ],
   "source": [
    "programming_languages = {\n",
    "    \"Python\": \"A high-level programming language known for readability.\",\n",
    "    \"JavaScript\": \"A versatile language primarily used for web development.\",\n",
    "    \"Java\": \"A widely-used language especially popular in large systems.\",\n",
    "    \"C++\": \"An extension of C known for performance and system-level programming.\",\n",
    "    \"Ruby\": \"A language known for its simplicity and productivity.\"\n",
    "}\n",
    "\n",
    "for language, description in programming_languages.items():\n",
    "    print(f\"\\n{language}:\")\n",
    "    print(f\"    {description}\")"
   ]
  },
  {
   "cell_type": "code",
   "execution_count": 41,
   "id": "3aa1bac2-6e35-4970-a19d-760a8710874a",
   "metadata": {},
   "outputs": [
    {
     "name": "stdout",
     "output_type": "stream",
     "text": [
      "\n",
      "key: username\n",
      "    Value: efermi\n",
      "\n",
      "key: first\n",
      "    Value: enrico\n",
      "\n",
      "key: last\n",
      "    Value: fermi\n"
     ]
    }
   ],
   "source": [
    "user_0 = {\n",
    "    'username': 'efermi',\n",
    "    'first': 'enrico',\n",
    "    'last': 'fermi',\n",
    "    }\n",
    "for key, value in user_0.items():\n",
    "    print(f\"\\nkey: {key}\")\n",
    "    print(f\"Value: {value}\")"
   ]
  },
  {
   "cell_type": "code",
   "execution_count": 42,
   "id": "adbf807b-d9a0-44a0-8f3f-18f2634e7bf4",
   "metadata": {},
   "outputs": [
    {
     "name": "stdout",
     "output_type": "stream",
     "text": [
      "Mary's favorite language is 27.\n",
      "Bob's favorite language is 30.\n",
      "John's favorite language is 20.\n",
      "Kate's favorite language is 18.\n",
      "April's favorite language is 22.\n"
     ]
    }
   ],
   "source": [
    "favorite_numbers = {\n",
    "    'mary': 27,\n",
    "    'bob': 30,\n",
    "    'john': 20,\n",
    "    'kate': 18,\n",
    "    'april': 22,\n",
    "}\n",
    "\n",
    "for name, language in favorite_numbers.items():\n",
    "    print(f\"{name.title()}'s favorite language is {language}.\")"
   ]
  },
  {
   "cell_type": "code",
   "execution_count": 45,
   "id": "e901c866-09d5-4422-bd3c-4c212198ce06",
   "metadata": {},
   "outputs": [
    {
     "name": "stdout",
     "output_type": "stream",
     "text": [
      "Jen\n",
      "Sarah\n",
      "Edward\n",
      "Phil\n"
     ]
    }
   ],
   "source": [
    "favorite_languages = {\n",
    "    'jen': 'python',\n",
    "    'sarah': 'c',\n",
    "    'edward': 'rust',\n",
    "    'phil': 'python',\n",
    "    }\n",
    "for name in favorite_languages.keys():\n",
    "    print(name.title())"
   ]
  },
  {
   "cell_type": "code",
   "execution_count": 50,
   "id": "6f45bddf-c4ae-4106-8fb2-b5280cb5b77d",
   "metadata": {},
   "outputs": [
    {
     "name": "stdout",
     "output_type": "stream",
     "text": [
      "Hi, Jen\n",
      "Hi, Sarah\n",
      "\tSarah, I see you in love C.\n",
      "Hi, Edward\n",
      "Hi, Phil\n",
      "\tPhil, I see you in love Python.\n"
     ]
    }
   ],
   "source": [
    "favorite_languages = {\n",
    "    'jen': 'python',\n",
    "    'sarah': 'c',\n",
    "    'edward': 'rust',\n",
    "    'phil': 'python',\n",
    "    }\n",
    "friends = ['phil', 'sarah']\n",
    "for name in favorite_languages.keys():\n",
    "    print(f\"Hi, {name.title()}\")\n",
    "    if name in friends:\n",
    "        language = favorite_languages[name].title()\n",
    "        print(f\"\\t{name.title()}, I see you in love {language}.\")"
   ]
  },
  {
   "cell_type": "code",
   "execution_count": 52,
   "id": "bcaf5975-d163-4805-b862-d0da0cc5c6af",
   "metadata": {},
   "outputs": [
    {
     "name": "stdout",
     "output_type": "stream",
     "text": [
      "Hi, Jen\n",
      "Hi, Sarah\n",
      "\tSarah, I see you in love C.\n",
      "Hi, Edward\n",
      "Hi, Phil\n",
      "\tPhil, I see you in love Python.\n"
     ]
    }
   ],
   "source": [
    "favorite_languages = {\n",
    "    'jen': 'python',\n",
    "    'sarah': 'c',\n",
    "    'edward': 'rust',\n",
    "    'phil': 'python',\n",
    "    }\n",
    "friends = ['phil', 'sarah']\n",
    "for name in favorite_languages.keys():\n",
    "    print(f\"Hi, {name.title()}\")\n",
    "    if name in friends:\n",
    "        print(f\"\\t{name.title()}, I see you in love {favorite_languages[name].title()}.\")"
   ]
  },
  {
   "cell_type": "code",
   "execution_count": 53,
   "id": "e85ebb28-1be8-4270-a2c2-0459cae6bca2",
   "metadata": {},
   "outputs": [
    {
     "name": "stdout",
     "output_type": "stream",
     "text": [
      "Erin, please take our poll!\n"
     ]
    }
   ],
   "source": [
    "favorite_languages = {\n",
    "    'jen': 'python',\n",
    "    'sarah': 'c',\n",
    "    'edward': 'rust',\n",
    "    'phil': 'python',\n",
    "    }\n",
    "if 'erin' not in favorite_languages:\n",
    "    print(\"Erin, please take our poll!\")"
   ]
  },
  {
   "cell_type": "code",
   "execution_count": 54,
   "id": "fe162fdb-63ac-46f7-88e6-41b713d53e72",
   "metadata": {},
   "outputs": [
    {
     "name": "stdout",
     "output_type": "stream",
     "text": [
      "Edward, thank you for taking the poll!\n",
      "Jen, thank you for taking the poll!\n",
      "Phil, thank you for taking the poll!\n",
      "Sarah, thank you for taking the poll!\n"
     ]
    }
   ],
   "source": [
    "favorite_languages = {\n",
    "    'jen': 'python',\n",
    "    'sarah': 'c',\n",
    "    'edward': 'rust',\n",
    "    'phil': 'python',\n",
    "    }\n",
    "for name in sorted(favorite_languages.keys()):\n",
    "    print(f\"{name.title()}, thank you for taking the poll!\")"
   ]
  },
  {
   "cell_type": "code",
   "execution_count": 60,
   "id": "d8ac3025-8a06-4431-9436-352d4b5584b2",
   "metadata": {},
   "outputs": [
    {
     "name": "stdout",
     "output_type": "stream",
     "text": [
      "The following languages have been mentioned:\n",
      "Python\n",
      "C\n",
      "Rust\n",
      "Python\n"
     ]
    }
   ],
   "source": [
    "favorite_languages = {\n",
    "    'jen': 'python',\n",
    "    'sarah': 'c',\n",
    "    'edward': 'rust',\n",
    "    'phil': 'python',\n",
    "    }\n",
    "print(\"The following languages have been mentioned:\")\n",
    "for language in favorite_languages.values():\n",
    "    print(language.title())"
   ]
  },
  {
   "cell_type": "code",
   "execution_count": 61,
   "id": "7a0f56db-5498-4754-a220-aa1d1b70661f",
   "metadata": {},
   "outputs": [
    {
     "name": "stdout",
     "output_type": "stream",
     "text": [
      "The following languages have been mentioned:\n",
      "Rust\n",
      "Python\n",
      "C\n"
     ]
    }
   ],
   "source": [
    "favorite_languages = {\n",
    "    'jen': 'python',\n",
    "    'sarah': 'c',\n",
    "    'edward': 'rust',\n",
    "    'phil': 'python',\n",
    "    }\n",
    "print(\"The following languages have been mentioned:\")\n",
    "for language in set(favorite_languages.values()):\n",
    "    print(language.title())"
   ]
  },
  {
   "cell_type": "code",
   "execution_count": 63,
   "id": "d976d05d-e796-47ba-a48c-fd668e81f05e",
   "metadata": {},
   "outputs": [
    {
     "name": "stdout",
     "output_type": "stream",
     "text": [
      "first_name: zhengru\n",
      "last_name: cheng\n",
      "age: 25\n",
      "city: kyoto\n"
     ]
    }
   ],
   "source": [
    "person = {\n",
    "    'first_name': 'zhengru',\n",
    "    'last_name': 'cheng',\n",
    "    'age': 25,\n",
    "    'city': 'kyoto',\n",
    "    }\n",
    "for key, value in person.items():\n",
    "    print(f\"{key}: {value}\")"
   ]
  },
  {
   "cell_type": "code",
   "execution_count": 66,
   "id": "abc7a20c-ee76-42b9-847e-ac697e9984bd",
   "metadata": {},
   "outputs": [
    {
     "name": "stdout",
     "output_type": "stream",
     "text": [
      "The Nile runs through Egypt.\n",
      "The Amazon runs through Brazil.\n",
      "The Yangtze runs through China.\n",
      "Egypt\n",
      "Brazil\n",
      "China\n"
     ]
    }
   ],
   "source": [
    "rivers = {\n",
    "    \"Nile\": \"Egypt\",\n",
    "    \"Amazon\": \"Brazil\",\n",
    "    \"Yangtze\": \"China\",\n",
    "    }\n",
    "for key, value in rivers.items():\n",
    "    print(f\"The {key} runs through {value}.\")\n",
    "for country in rivers.values():\n",
    "    print(country)"
   ]
  },
  {
   "cell_type": "code",
   "execution_count": 68,
   "id": "c450cdc3-85d7-44e7-bce6-e50d962cfdc4",
   "metadata": {},
   "outputs": [
    {
     "name": "stdout",
     "output_type": "stream",
     "text": [
      "Thank you Jen for taking the survey!\n",
      "Thank you Sarah for taking the survey!\n",
      "Edward, please go to take the survey!\n",
      "Thank you Phil for taking the survey!\n"
     ]
    }
   ],
   "source": [
    "favorite_languages = {\n",
    "    \"jen\": \"python\",\n",
    "    \"sarah\": \"c\",\n",
    "    \"edward\": \"ruby\",\n",
    "    \"phil\": \"python\"\n",
    "}\n",
    "\n",
    "people_to_survey = [\"jen\", \"sarah\", \"michael\", \"alice\", \"phil\"]\n",
    "\n",
    "for person in favorite_languages.keys():\n",
    "    if person in people_to_survey:\n",
    "        print(f\"Thank you {person.title()} for taking the survey!\")\n",
    "    else: \n",
    "        print(f\"{person.title()}, please go to take the survey!\")"
   ]
  },
  {
   "cell_type": "code",
   "execution_count": 69,
   "id": "89225e8a-2a26-4816-94c0-f9c1c1220717",
   "metadata": {},
   "outputs": [
    {
     "name": "stdout",
     "output_type": "stream",
     "text": [
      "{'color': 'green', 'points': 5}\n",
      "{'color': 'yellow', 'points': 10}\n",
      "{'color': 'red', 'points': 15}\n"
     ]
    }
   ],
   "source": [
    "alien_0 = {'color': 'green', 'points': 5}\n",
    "alien_1 = {'color': 'yellow', 'points': 10}\n",
    "alien_2 = {'color': 'red', 'points': 15}\n",
    "\n",
    "aliens = [alien_0, alien_1, alien_2]\n",
    "\n",
    "for alien in aliens:\n",
    "    print(alien)"
   ]
  },
  {
   "cell_type": "code",
   "execution_count": 74,
   "id": "d81c9bb6-f093-4235-8fe1-a572d8ad8152",
   "metadata": {},
   "outputs": [
    {
     "name": "stdout",
     "output_type": "stream",
     "text": [
      "{'color': 'green', 'points': 5, 'speed': 'slow'}\n",
      "{'color': 'green', 'points': 5, 'speed': 'slow'}\n",
      "{'color': 'green', 'points': 5, 'speed': 'slow'}\n",
      "{'color': 'green', 'points': 5, 'speed': 'slow'}\n",
      "{'color': 'green', 'points': 5, 'speed': 'slow'}\n",
      "...\n",
      "Total number of aliens: 30\n"
     ]
    }
   ],
   "source": [
    "aliens = []\n",
    "\n",
    "for alien_number in range(30):\n",
    "    new_alien = {'color': 'green', 'points': 5, 'speed': 'slow'}\n",
    "    aliens.append(new_alien)\n",
    "\n",
    "for alien in aliens[:5]:\n",
    "    print(alien)\n",
    "print(\"...\")\n",
    "\n",
    "print(f\"Total number of aliens: {len(aliens)}\")\n",
    "\n"
   ]
  },
  {
   "cell_type": "code",
   "execution_count": 75,
   "id": "e6140ff6-70f4-4183-91f1-e62df7e31342",
   "metadata": {},
   "outputs": [
    {
     "name": "stdout",
     "output_type": "stream",
     "text": [
      "{'color': 'yellow', 'points': 10, 'speed': 'medium'}\n",
      "{'color': 'yellow', 'points': 10, 'speed': 'medium'}\n",
      "{'color': 'yellow', 'points': 10, 'speed': 'medium'}\n",
      "{'color': 'yellow', 'points': 10, 'speed': 'medium'}\n",
      "{'color': 'yellow', 'points': 10, 'speed': 'medium'}\n",
      "...\n",
      "Total number of aliens: 30\n"
     ]
    }
   ],
   "source": [
    "aliens = []\n",
    "\n",
    "for alien_number in range(30):\n",
    "    new_alien = {'color': 'green', 'points': 5, 'speed': 'slow'}\n",
    "    aliens.append(new_alien)\n",
    "\n",
    "for alien in aliens[:5]:\n",
    "    if alien['color'] == 'green':\n",
    "        alien['color'] = 'yellow'\n",
    "        alien['speed'] = 'medium'\n",
    "        alien['points'] = 10\n",
    "    print(alien)\n",
    "print(\"...\")\n",
    "\n",
    "print(f\"Total number of aliens: {len(aliens)}\")"
   ]
  },
  {
   "cell_type": "code",
   "execution_count": 76,
   "id": "d3bf079a-4ed7-4d2d-b42c-0e556d2814b2",
   "metadata": {},
   "outputs": [
    {
     "name": "stdout",
     "output_type": "stream",
     "text": [
      "You ordered a thick -crsut pizza with he following toppings:\n",
      "\tmushrooms\n",
      "\textra cheese\n"
     ]
    }
   ],
   "source": [
    "pizza = {\n",
    "    'crust': 'thick',\n",
    "    'toppings': ['mushrooms', 'extra cheese'],\n",
    "    }\n",
    "print(f\"You ordered a {pizza['crust']} -crsut pizza with he following toppings:\")\n",
    "\n",
    "for topping in pizza['toppings']:\n",
    "    print(f\"\\t{topping}\")"
   ]
  },
  {
   "cell_type": "code",
   "execution_count": 78,
   "id": "f5f8c67c-85e3-40ae-bf8b-dfc000a102a6",
   "metadata": {},
   "outputs": [
    {
     "name": "stdout",
     "output_type": "stream",
     "text": [
      "Jen's favorite languages are:\n",
      "\tPython\n",
      "\tRust\n",
      "Sarah's favorite languages are:\n",
      "\tC\n",
      "Edward's favorite languages are:\n",
      "\tRust\n",
      "\tGo\n",
      "Phil's favorite languages are:\n",
      "\tPython\n",
      "\tHaskell\n"
     ]
    }
   ],
   "source": [
    "favorite_languages = {\n",
    "    'jen': ['python', 'rust'],\n",
    "    'sarah': ['c'],\n",
    "    'edward': ['rust', 'go'],\n",
    "    'phil': ['python', 'haskell'],\n",
    "    }\n",
    "for name, languages in favorite_languages.items():\n",
    "    print(f\"{name.title()}'s favorite languages are:\")\n",
    "    for language in languages:\n",
    "        print(f\"\\t{language.title()}\")\n",
    "\n"
   ]
  },
  {
   "cell_type": "code",
   "execution_count": 83,
   "id": "05d02bcb-f08b-4e36-ae22-730812cfbae7",
   "metadata": {},
   "outputs": [
    {
     "name": "stdout",
     "output_type": "stream",
     "text": [
      "\n",
      "Username: aeinsten\n",
      "\tFull name: Albert Einsteni\n",
      "\tLocation: Priceton\n",
      "\n",
      "Username: mcurie\n",
      "\tFull name: Marie Curie\n",
      "\tLocation: Paris\n"
     ]
    }
   ],
   "source": [
    "users = {\n",
    "    'aeinsten': {\n",
    "        'first': 'albert',\n",
    "        'last': 'einsteni',\n",
    "        'location': 'priceton',\n",
    "        },\n",
    "    'mcurie': {\n",
    "        'first': 'marie',\n",
    "        'last': 'curie',\n",
    "        'location': 'paris',\n",
    "        },\n",
    "    }\n",
    "for username, user_info in users.items():\n",
    "    print(f\"\\nUsername: {username}\")\n",
    "    full_name = f\"{user_info['first']} {user_info['last']}\"\n",
    "    location = user_info['location']\n",
    "\n",
    "    print(f\"\\tFull name: {full_name.title()}\")\n",
    "    print(f\"\\tLocation: {location.title()}\")"
   ]
  },
  {
   "cell_type": "code",
   "execution_count": 84,
   "id": "9743be24-dc80-4b7d-b05c-814416b3f348",
   "metadata": {},
   "outputs": [
    {
     "name": "stdout",
     "output_type": "stream",
     "text": [
      "\n",
      "Username: aeinsten\n",
      "\tFull name: Albert Einstein\n",
      "\tLocation: Princeton\n",
      "\n",
      "Username: mcurie\n",
      "\tFull name: Marie Curie\n",
      "\tLocation: Paris\n"
     ]
    }
   ],
   "source": [
    "users = {\n",
    "    'aeinsten': {\n",
    "        'first': 'albert',\n",
    "        'last': 'einstein',\n",
    "        'location': 'princeton',\n",
    "    },\n",
    "    'mcurie': {\n",
    "        'first': 'marie',\n",
    "        'last': 'curie',\n",
    "        'location': 'paris',\n",
    "    },\n",
    "}\n",
    "\n",
    "for username, user_info in users.items():\n",
    "    print(f\"\\nUsername: {username}\")\n",
    "    full_name = f\"{user_info['first']} {user_info['last']}\"\n",
    "    location = user_info['location']\n",
    "\n",
    "    print(f\"\\tFull name: {full_name.title()}\")\n",
    "    print(f\"\\tLocation: {location.title()}\")\n"
   ]
  },
  {
   "cell_type": "code",
   "execution_count": 90,
   "id": "61e54254-2cca-4b1b-987e-4f3e21dfb1ca",
   "metadata": {},
   "outputs": [
    {
     "name": "stdout",
     "output_type": "stream",
     "text": [
      "\n",
      "Name: John Doe)\n",
      "Age: 30\n",
      "City: New York\n",
      "\n",
      "Name: Jane Smith)\n",
      "Age: 25\n",
      "City: Los Angeles\n",
      "\n",
      "Name: Alice Brown)\n",
      "Age: 28\n",
      "City: Chicago\n"
     ]
    }
   ],
   "source": [
    "person1 = {'first_name': 'John', 'last_name': 'Doe', 'age': 30, 'city': 'New York'}\n",
    "person2 = {'first_name': 'Jane', 'last_name': 'Smith', 'age': 25, 'city': 'Los Angeles'}\n",
    "person3 = {'first_name': 'Alice', 'last_name': 'Brown', 'age': 28, 'city': 'Chicago'}\n",
    "\n",
    "people = [person1, person2, person3]\n",
    "for person in people:\n",
    "    full_name = f\"{person['first_name']} {person['last_name']})\"\n",
    "    print(f\"\\nName: {full_name}\")\n",
    "    print(f\"Age: {person['age']}\")\n",
    "    print(f\"City: {person['city']}\")"
   ]
  },
  {
   "cell_type": "code",
   "execution_count": 94,
   "id": "829103ab-eb8f-4bee-9388-0ec6b69b6aff",
   "metadata": {},
   "outputs": [
    {
     "name": "stdout",
     "output_type": "stream",
     "text": [
      "\n",
      "Type: dog, owner: Alice\n",
      "\n",
      "Type: cat, owner: Bob\n",
      "\n",
      "Type: hamster, owner: Charlie\n"
     ]
    }
   ],
   "source": [
    "pet1 = {'type': 'dog', 'owner': 'Alice'}\n",
    "pet2 = {'type': 'cat', 'owner': 'Bob'}\n",
    "pet3 = {'type': 'hamster', 'owner': 'Charlie'}\n",
    "\n",
    "pets = [pet1, pet2, pet3]\n",
    "\n",
    "for pet in pets:\n",
    "    print(f\"\\nType: {pet['type']}, owner: {pet['owner']}\") "
   ]
  },
  {
   "cell_type": "code",
   "execution_count": 101,
   "id": "67a3d83b-dcbd-475f-9b31-4da34996875e",
   "metadata": {},
   "outputs": [
    {
     "name": "stdout",
     "output_type": "stream",
     "text": [
      "\n",
      "Alice's favorite palces are:\n",
      "Paris\n",
      "Rome\n",
      "Tokyo\n",
      "\n",
      "Bob's favorite palces are:\n",
      "New York\n",
      "London\n",
      "\n",
      "Charlie's favorite palces are:\n",
      "Sydney\n",
      "Cape Town\n",
      "Toronto\n"
     ]
    }
   ],
   "source": [
    "favorite_places = {\n",
    "    'alice': ['paris', 'rome', 'tokyo'],\n",
    "    'bob': ['new york', 'london'],\n",
    "    'charlie': ['sydney', 'cape town', 'toronto']\n",
    "}\n",
    "for name, places in favorite_places.items():\n",
    "    print(f\"\\n{name.title()}'s favorite palces are:\")\n",
    "    for place in places:\n",
    "        print(place.title())"
   ]
  },
  {
   "cell_type": "code",
   "execution_count": 104,
   "id": "a90fecca-4f95-4cea-93bf-fe460c7cedff",
   "metadata": {},
   "outputs": [
    {
     "name": "stdout",
     "output_type": "stream",
     "text": [
      "\n",
      "Alice's favorite numbers are:\n",
      "3\n",
      "7\n",
      "9\n",
      "\n",
      "Bob's favorite numbers are:\n",
      "1\n",
      "4\n",
      "\n",
      "Charlie's favorite numbers are:\n",
      "5\n",
      "8\n",
      "10\n"
     ]
    }
   ],
   "source": [
    "favorite_numbers = {\n",
    "    'alice': [3, 7, 9],\n",
    "    'bob': [1, 4],\n",
    "    'charlie': [5, 8, 10]\n",
    "}\n",
    "for name, numbers in favorite_numbers.items():\n",
    "    print(f\"\\n{name.title()}'s favorite numbers are:\")\n",
    "    for number in numbers:\n",
    "        print(number)"
   ]
  },
  {
   "cell_type": "code",
   "execution_count": 106,
   "id": "83fc6303-6064-4169-901a-a13f0a11e2a2",
   "metadata": {},
   "outputs": [
    {
     "name": "stdout",
     "output_type": "stream",
     "text": [
      "\n",
      "City: New York\n",
      "County: usa\n",
      "Population: 8 million\n",
      "landmark: statue of liberty\n",
      "\n",
      "City: Paris\n",
      "County: france\n",
      "Population: 2 million\n",
      "landmark: eiffel tower\n",
      "\n",
      "City: Tokyo\n",
      "County: japan\n",
      "Population: 14 million\n",
      "landmark: tokyo tower\n"
     ]
    }
   ],
   "source": [
    "cities = {\n",
    "    'new york': {\n",
    "        'country': 'usa',\n",
    "        'population': '8 million',\n",
    "        'landmark': 'statue of liberty'\n",
    "    },\n",
    "    'paris': {\n",
    "        'country': 'france',\n",
    "        'population': '2 million',\n",
    "        'landmark': 'eiffel tower'\n",
    "    },\n",
    "    'tokyo': {\n",
    "        'country': 'japan',\n",
    "        'population': '14 million',\n",
    "        'landmark': 'tokyo tower'\n",
    "    }\n",
    "}\n",
    "\n",
    "for city, info in cities.items():\n",
    "    print(f\"\\nCity: {city.title()}\")\n",
    "    print(f\"County: {info['country']}\")\n",
    "    print(f\"Population: {info['population']}\")\n",
    "    print(f\"landmark: {info['landmark']}\")"
   ]
  },
  {
   "cell_type": "code",
   "execution_count": null,
   "id": "4dab401a-d77d-4508-b15e-d808c270af34",
   "metadata": {},
   "outputs": [],
   "source": []
  }
 ],
 "metadata": {
  "kernelspec": {
   "display_name": "Python 3 (ipykernel)",
   "language": "python",
   "name": "python3"
  },
  "language_info": {
   "codemirror_mode": {
    "name": "ipython",
    "version": 3
   },
   "file_extension": ".py",
   "mimetype": "text/x-python",
   "name": "python",
   "nbconvert_exporter": "python",
   "pygments_lexer": "ipython3",
   "version": "3.12.7"
  }
 },
 "nbformat": 4,
 "nbformat_minor": 5
}
