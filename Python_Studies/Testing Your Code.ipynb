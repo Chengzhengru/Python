{
 "cells": [
  {
   "cell_type": "markdown",
   "id": "421dccb6-4b9c-4700-adfa-d4b4a7497822",
   "metadata": {},
   "source": [
    "# Testing Your Code"
   ]
  },
  {
   "cell_type": "code",
   "execution_count": 2,
   "id": "51bdbb0f-7445-4632-9bc4-0c964a1b643b",
   "metadata": {},
   "outputs": [
    {
     "name": "stdout",
     "output_type": "stream",
     "text": [
      "Requirement already satisfied: pip in /opt/anaconda3/lib/python3.12/site-packages (24.2)\n",
      "Collecting pip\n",
      "  Downloading pip-24.3.1-py3-none-any.whl.metadata (3.7 kB)\n",
      "Downloading pip-24.3.1-py3-none-any.whl (1.8 MB)\n",
      "\u001b[2K   \u001b[90m━━━━━━━━━━━━━━━━━━━━━━━━━━━━━━━━━━━━━━━━\u001b[0m \u001b[32m1.8/1.8 MB\u001b[0m \u001b[31m4.2 MB/s\u001b[0m eta \u001b[36m0:00:00\u001b[0ma \u001b[36m0:00:01\u001b[0m\n",
      "\u001b[?25hInstalling collected packages: pip\n",
      "  Attempting uninstall: pip\n",
      "    Found existing installation: pip 24.2\n",
      "    Uninstalling pip-24.2:\n",
      "      Successfully uninstalled pip-24.2\n",
      "Successfully installed pip-24.3.1\n"
     ]
    }
   ],
   "source": [
    "!python -m pip install --upgrade pip"
   ]
  },
  {
   "cell_type": "code",
   "execution_count": 4,
   "id": "7882b4cc-4b12-4cfd-a664-e119826a642d",
   "metadata": {},
   "outputs": [
    {
     "name": "stdout",
     "output_type": "stream",
     "text": [
      "Requirement already satisfied: pytest in /opt/anaconda3/lib/python3.12/site-packages (7.4.4)\n",
      "Requirement already satisfied: iniconfig in /opt/anaconda3/lib/python3.12/site-packages (from pytest) (1.1.1)\n",
      "Requirement already satisfied: packaging in /opt/anaconda3/lib/python3.12/site-packages (from pytest) (24.1)\n",
      "Requirement already satisfied: pluggy<2.0,>=0.12 in /opt/anaconda3/lib/python3.12/site-packages (from pytest) (1.0.0)\n"
     ]
    }
   ],
   "source": [
    "!python -m pip install --user pytest"
   ]
  },
  {
   "cell_type": "code",
   "execution_count": 5,
   "id": "66ee294f-e866-4db0-87d3-de3fc7bce45b",
   "metadata": {},
   "outputs": [],
   "source": [
    "def get_formatted_name(first, last):\n",
    "    full_name = f\"{first} {last}\"\n",
    "    return full_name.title()"
   ]
  },
  {
   "cell_type": "code",
   "execution_count": null,
   "id": "49a0a3de-5f47-4cb5-bafd-b6802717b347",
   "metadata": {},
   "outputs": [
    {
     "name": "stdout",
     "output_type": "stream",
     "text": [
      "Enter 'q' at any time to quit.\n"
     ]
    }
   ],
   "source": [
    "from name_function import get_formatted_name \n",
    "\n",
    "print(\"Enter 'q' at any time to quit.\")\n",
    "while True:\n",
    "    first = input(\"\\nPlease give me a first name:\")\n",
    "    if first == 'q':\n",
    "        break\n",
    "    last = input(\"Please give me a last name:\")\n",
    "    if last == 'q':\n",
    "        break\n",
    "\n",
    "    formatted_name = get_formatted_name(first, last)\n",
    "    print(f\"\\tNeatly formatted name: {formatted_name}.\")"
   ]
  },
  {
   "cell_type": "code",
   "execution_count": 3,
   "id": "b24437cd-4956-44fa-84da-1f7e25efc32f",
   "metadata": {},
   "outputs": [],
   "source": [
    "from name_function import get_formatted_name\n",
    "\n",
    "def test_first_last_name():\n",
    "    formatted_name = get_formatted_name('janis', 'joplin')\n",
    "    assert formatted_name == 'Janis Joplin'"
   ]
  },
  {
   "cell_type": "code",
   "execution_count": 9,
   "id": "d8e8d623-72aa-4bd5-a7bb-c6a3346bfa35",
   "metadata": {},
   "outputs": [
    {
     "name": "stdout",
     "output_type": "stream",
     "text": [
      "Test passed!\n"
     ]
    }
   ],
   "source": [
    "from name_function import get_formatted_name\n",
    "\n",
    "def test_first_last_name():\n",
    "    formatted_name = get_formatted_name('janis', 'joplin')\n",
    "    assert formatted_name == 'Janis Joplin'\n",
    "\n",
    "test_first_last_name()\n",
    "print(\"Test passed!\")"
   ]
  }
 ],
 "metadata": {
  "kernelspec": {
   "display_name": "Python 3 (ipykernel)",
   "language": "python",
   "name": "python3"
  },
  "language_info": {
   "codemirror_mode": {
    "name": "ipython",
    "version": 3
   },
   "file_extension": ".py",
   "mimetype": "text/x-python",
   "name": "python",
   "nbconvert_exporter": "python",
   "pygments_lexer": "ipython3",
   "version": "3.12.7"
  }
 },
 "nbformat": 4,
 "nbformat_minor": 5
}
