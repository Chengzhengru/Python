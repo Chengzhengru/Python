{
 "cells": [
  {
   "cell_type": "markdown",
   "id": "411d5687-c6b2-4065-b665-69633f271d46",
   "metadata": {},
   "source": [
    "# Classes"
   ]
  },
  {
   "cell_type": "code",
   "execution_count": 6,
   "id": "5dc90208-20d8-486c-a11e-0c69370aee3d",
   "metadata": {},
   "outputs": [],
   "source": [
    "class Dog:\n",
    "    def __init__(self, name, age):\n",
    "        self.name = name\n",
    "        self.age = age\n",
    "    def sit(self):\n",
    "        print(f\"{self.name} is now sitting.\")\n",
    "    def roll_over(self):\n",
    "        print(f\"{self.name} rolled over.\")"
   ]
  },
  {
   "cell_type": "code",
   "execution_count": 9,
   "id": "76625c22-ed63-4ae5-b0b0-b5229c1ebff0",
   "metadata": {},
   "outputs": [
    {
     "name": "stdout",
     "output_type": "stream",
     "text": [
      "My dog's name is Willie.\n",
      "My dog is 6 years old.\n"
     ]
    }
   ],
   "source": [
    "class Dog:\n",
    "    def __init__(self, name, age):\n",
    "        self.name = name\n",
    "        self.age = age\n",
    "my_dog = Dog('Willie', 6)\n",
    "print(f\"My dog's name is {my_dog.name}.\")\n",
    "print(f\"My dog is {my_dog.age} years old.\")"
   ]
  },
  {
   "cell_type": "code",
   "execution_count": 12,
   "id": "cf143e60-bc41-4b16-bb7c-afec1bf87850",
   "metadata": {},
   "outputs": [
    {
     "name": "stdout",
     "output_type": "stream",
     "text": [
      "My dog's name is Willie.\n",
      "My dog is 6 years old.\n",
      "Willie is now sitting.\n",
      "your dog's name is lucy.\n",
      "your dog is 3 years old.\n",
      "lucy is now sitting.\n"
     ]
    }
   ],
   "source": [
    "class Dog:\n",
    "    def __init__(self, name, age):\n",
    "        self.name = name\n",
    "        self.age = age\n",
    "    def sit(self):\n",
    "        print(f\"{self.name} is now sitting.\")\n",
    "    def roll_over(self):\n",
    "        print(f\"{self.name} rolled over.\")\n",
    "\n",
    "my_dog = Dog('Willie', 6)\n",
    "your_dog = Dog('lucy', 3)\n",
    "\n",
    "print(f\"My dog's name is {my_dog.name}.\")\n",
    "print(f\"My dog is {my_dog.age} years old.\")\n",
    "my_dog.sit()\n",
    "\n",
    "print(f\"your dog's name is {your_dog.name}.\")\n",
    "print(f\"your dog is {your_dog.age} years old.\")\n",
    "your_dog.sit()"
   ]
  },
  {
   "cell_type": "code",
   "execution_count": 15,
   "id": "8dc6a786-a015-48a1-bc8d-15d94c559de2",
   "metadata": {},
   "outputs": [
    {
     "name": "stdout",
     "output_type": "stream",
     "text": [
      "\n",
      "Quanfen Hotel is very cheap and good!\n",
      "\n",
      "The restaurant quanfen hotel is very large!\n",
      "quanfen hotel is now open.\n"
     ]
    }
   ],
   "source": [
    "class Restaurant:\n",
    "    def __init__(self, restaurant_name, cuisine_type):\n",
    "        self.restaurant_name = restaurant_name\n",
    "        self.cuisine_type = cuisine_type\n",
    "\n",
    "    def describe_restaurant(self):\n",
    "        print(f\"\\nThe restaurant {self.restaurant_name} is very large!\")\n",
    "\n",
    "    def open_restaurant(self):\n",
    "        print(f\"{self.restaurant_name} is now open.\")\n",
    "\n",
    "my_restaurant = Restaurant('quanfen hotel', 'chinese food')\n",
    "print(f\"\\n{my_restaurant.restaurant_name.title()} is very cheap and good!\")\n",
    "my_restaurant.describe_restaurant()\n",
    "my_restaurant.open_restaurant()\n"
   ]
  },
  {
   "cell_type": "code",
   "execution_count": 17,
   "id": "03cc03b8-49b1-40b6-aa56-b946f8e5a7d7",
   "metadata": {},
   "outputs": [
    {
     "name": "stdout",
     "output_type": "stream",
     "text": [
      "\n",
      "Quanfen Hotel is very cheap and good!\n",
      "\n",
      "Quanfen Hotel's food is chinese food.\n",
      "\n",
      "The restaurant quanfen hotel is very large!\n",
      "quanfen hotel is now open.\n",
      "\n",
      "Wanxi Hotel is very cheap and good!\n",
      "\n",
      "Wanxi Hotel's food is japanese food.\n",
      "\n",
      "The restaurant wanxi hotel is very large!\n",
      "wanxi hotel is now open.\n",
      "\n",
      "Zhangbing Hotel is very cheap and good!\n",
      "\n",
      "Zhangbing Hotel's food is american food.\n",
      "\n",
      "The restaurant zhangbing hotel is very large!\n",
      "zhangbing hotel is now open.\n"
     ]
    }
   ],
   "source": [
    "class Restaurant:\n",
    "    def __init__(self, restaurant_name, cuisine_type):\n",
    "        self.restaurant_name = restaurant_name\n",
    "        self.cuisine_type = cuisine_type\n",
    "\n",
    "    def describe_restaurant(self):\n",
    "        print(f\"\\nThe restaurant {self.restaurant_name} is very large!\")\n",
    "\n",
    "    def open_restaurant(self):\n",
    "        print(f\"{self.restaurant_name} is now open.\")\n",
    "\n",
    "my_restaurant = Restaurant('quanfen hotel', 'chinese food')\n",
    "a_restaurant = Restaurant('wanxi hotel', 'japanese food')\n",
    "b_restaurant = Restaurant('zhangbing hotel', 'american food')\n",
    "\n",
    "\n",
    "print(f\"\\n{my_restaurant.restaurant_name.title()} is very cheap and good!\")\n",
    "print(f\"\\n{my_restaurant.restaurant_name.title()}'s food is {my_restaurant.cuisine_type}.\")\n",
    "my_restaurant.describe_restaurant()\n",
    "my_restaurant.open_restaurant()\n",
    "\n",
    "print(f\"\\n{a_restaurant.restaurant_name.title()} is very cheap and good!\")\n",
    "print(f\"\\n{a_restaurant.restaurant_name.title()}'s food is {a_restaurant.cuisine_type}.\")\n",
    "a_restaurant.describe_restaurant()\n",
    "a_restaurant.open_restaurant()\n",
    "\n",
    "print(f\"\\n{b_restaurant.restaurant_name.title()} is very cheap and good!\")\n",
    "print(f\"\\n{b_restaurant.restaurant_name.title()}'s food is {b_restaurant.cuisine_type}.\")\n",
    "b_restaurant.describe_restaurant()\n",
    "b_restaurant.open_restaurant()\n"
   ]
  },
  {
   "cell_type": "code",
   "execution_count": 20,
   "id": "026eda3d-8ef8-4719-a05c-c865486fe4d6",
   "metadata": {},
   "outputs": [
    {
     "name": "stdout",
     "output_type": "stream",
     "text": [
      "User name: Zhengru Cheng\n",
      "Location: 25\n",
      "Age: kyoto\n",
      "Hello, Zhengru Cheng.\n"
     ]
    }
   ],
   "source": [
    "class User:\n",
    "    def __init__(self, first_name, last_name, age, location):\n",
    "        self.first_name = first_name\n",
    "        self.last_name = last_name\n",
    "        self.age = age\n",
    "        self.location = location\n",
    "\n",
    "    def describe_user(self):\n",
    "        print(f\"User name: {self.first_name.title()} {self.last_name.title()}\")\n",
    "        print(f\"Location: {self.location}\")\n",
    "        print(f\"Age: {self.age}\")\n",
    "\n",
    "    def greet_user(self):\n",
    "        print(f\"Hello, {self.first_name.title()} {self.last_name.title()}.\")\n",
    "\n",
    "user1 = User('zhengru', 'cheng', 'kyoto', 25)\n",
    "\n",
    "user1.describe_user()\n",
    "user1.greet_user()"
   ]
  },
  {
   "cell_type": "code",
   "execution_count": 22,
   "id": "0a20408c-ab20-4c0d-921d-a9ced7425a50",
   "metadata": {},
   "outputs": [
    {
     "name": "stdout",
     "output_type": "stream",
     "text": [
      "User: John Doe\n",
      "Age: 30\n",
      "Location: New York\n",
      "Hello, John Doe! Welcome back.\n",
      "User: Alice Smith\n",
      "Age: 25\n",
      "Location: London\n",
      "Hello, Alice Smith! Welcome back.\n",
      "User: Bob Brown\n",
      "Age: 40\n",
      "Location: Sydney\n",
      "Hello, Bob Brown! Welcome back.\n"
     ]
    }
   ],
   "source": [
    "class User:\n",
    "    def __init__(self, first_name, last_name, age, location):\n",
    "        self.first_name = first_name\n",
    "        self.last_name = last_name\n",
    "        self.age = age\n",
    "        self.location = location\n",
    "\n",
    "    def describe_user(self):\n",
    "        print(f\"User: {self.first_name} {self.last_name}\")\n",
    "        print(f\"Age: {self.age}\")\n",
    "        print(f\"Location: {self.location}\")\n",
    "\n",
    "    def greet_user(self):\n",
    "        print(f\"Hello, {self.first_name} {self.last_name}! Welcome back.\")\n",
    "\n",
    "# Create multiple user instances and call the describe_user and greet_user methods.\n",
    "user1 = User('John', 'Doe', 30, 'New York')\n",
    "user2 = User('Alice', 'Smith', 25, 'London')\n",
    "user3 = User('Bob', 'Brown', 40, 'Sydney')\n",
    "\n",
    "user1.describe_user()\n",
    "user1.greet_user()\n",
    "\n",
    "user2.describe_user()\n",
    "user2.greet_user()\n",
    "\n",
    "user3.describe_user()\n",
    "user3.greet_user()"
   ]
  },
  {
   "cell_type": "code",
   "execution_count": 25,
   "id": "f8f3b40a-1022-493e-8f76-e011faeb4a52",
   "metadata": {},
   "outputs": [
    {
     "name": "stdout",
     "output_type": "stream",
     "text": [
      "2024 Audi A4\n"
     ]
    }
   ],
   "source": [
    "class Car:\n",
    "    \n",
    "    def __init__(self, make, model, year):\n",
    "        self.make = make\n",
    "        self.model = model\n",
    "        self.year = year\n",
    "\n",
    "    def get_descriptive_name(self):\n",
    "        long_name = f\"{self.year} {self.make} {self.model}\"\n",
    "        return long_name.title()\n",
    "\n",
    "my_new_car = Car('audi', 'a4', 2024)\n",
    "print(my_new_car.get_descriptive_name())       "
   ]
  },
  {
   "cell_type": "code",
   "execution_count": 28,
   "id": "d09e0e51-5545-4383-b2d9-b14e888fd479",
   "metadata": {},
   "outputs": [
    {
     "name": "stdout",
     "output_type": "stream",
     "text": [
      "2024 Audi A4\n",
      "This car has 0 miles on it.\n"
     ]
    }
   ],
   "source": [
    "class Car:\n",
    "    \n",
    "    def __init__(self, make, model, year):\n",
    "        self.make = make\n",
    "        self.model = model\n",
    "        self.year = year\n",
    "        self.odometer_reading = 0\n",
    "\n",
    "    def get_descriptive_name(self):\n",
    "        long_name = f\"{self.year} {self.make} {self.model}\"\n",
    "        return long_name.title()\n",
    "        \n",
    "    def read_odometer_reading(self):\n",
    "        print(f\"This car has {self.odometer_reading} miles on it.\")\n",
    "\n",
    "my_new_car = Car('audi', 'a4', 2024)\n",
    "print(my_new_car.get_descriptive_name()) \n",
    "my_new_car.read_odometer_reading()"
   ]
  },
  {
   "cell_type": "code",
   "execution_count": 33,
   "id": "e748cb75-c208-4344-90c8-1820eae31cfd",
   "metadata": {},
   "outputs": [
    {
     "name": "stdout",
     "output_type": "stream",
     "text": [
      "2024 Audi A4\n",
      "This car has 23 miles on it.\n"
     ]
    }
   ],
   "source": [
    "class Car:\n",
    "    \n",
    "    def __init__(self, make, model, year):\n",
    "        self.make = make\n",
    "        self.model = model\n",
    "        self.year = year\n",
    "        self.odometer_reading = 0\n",
    "\n",
    "    def get_descriptive_name(self):\n",
    "        long_name = f\"{self.year} {self.make} {self.model}\"\n",
    "        return long_name.title()\n",
    "        \n",
    "    def read_odometer_reading(self):\n",
    "        print(f\"This car has {self.odometer_reading} miles on it.\")\n",
    "\n",
    "my_new_car = Car('audi', 'a4', 2024)\n",
    "print(my_new_car.get_descriptive_name())\n",
    "my_new_car.odometer_reading = 23\n",
    "my_new_car.read_odometer_reading()"
   ]
  },
  {
   "cell_type": "code",
   "execution_count": 34,
   "id": "fee10fb0-4370-4dd0-83c5-cb5d93e54d04",
   "metadata": {},
   "outputs": [
    {
     "name": "stdout",
     "output_type": "stream",
     "text": [
      "2024 Audi A4\n",
      "This car has 23 miles on it.\n"
     ]
    }
   ],
   "source": [
    "class Car:\n",
    "    \n",
    "    def __init__(self, make, model, year):\n",
    "        self.make = make\n",
    "        self.model = model\n",
    "        self.year = year\n",
    "        self.odometer_reading = 0\n",
    "\n",
    "    def get_descriptive_name(self):\n",
    "        long_name = f\"{self.year} {self.make} {self.model}\"\n",
    "        return long_name.title()\n",
    "        \n",
    "    def read_odometer_reading(self):\n",
    "        print(f\"This car has {self.odometer_reading} miles on it.\")\n",
    "\n",
    "    def update_odometer(self, mileage):\n",
    "        self.odometer_reading = mileage\n",
    "\n",
    "my_new_car = Car('audi', 'a4', 2024)\n",
    "print(my_new_car.get_descriptive_name())\n",
    "my_new_car.update_odometer(23)\n",
    "my_new_car.read_odometer_reading()"
   ]
  },
  {
   "cell_type": "code",
   "execution_count": 35,
   "id": "a1a20fa2-0134-4e7a-b1ac-cb4c57bd0a30",
   "metadata": {},
   "outputs": [
    {
     "name": "stdout",
     "output_type": "stream",
     "text": [
      "2024 Audi A4\n",
      "This car has 23 miles on it.\n"
     ]
    }
   ],
   "source": [
    "class Car:\n",
    "    \n",
    "    def __init__(self, make, model, year):\n",
    "        self.make = make\n",
    "        self.model = model\n",
    "        self.year = year\n",
    "        self.odometer_reading = 0\n",
    "\n",
    "    def get_descriptive_name(self):\n",
    "        long_name = f\"{self.year} {self.make} {self.model}\"\n",
    "        return long_name.title()\n",
    "        \n",
    "    def read_odometer_reading(self):\n",
    "        print(f\"This car has {self.odometer_reading} miles on it.\")\n",
    "\n",
    "    def update_odometer(self, mileage):\n",
    "        if mileage >= self.odometer_reading:\n",
    "            self.odometer_reading = mileage\n",
    "        else:\n",
    "            print(\"You can not roll back an odometer!\")\n",
    "\n",
    "my_new_car = Car('audi', 'a4', 2024)\n",
    "print(my_new_car.get_descriptive_name())\n",
    "my_new_car.update_odometer(23)\n",
    "my_new_car.read_odometer_reading()"
   ]
  },
  {
   "cell_type": "code",
   "execution_count": 37,
   "id": "a3a9bdaf-0141-431e-a565-bd47d48ef647",
   "metadata": {},
   "outputs": [
    {
     "name": "stdout",
     "output_type": "stream",
     "text": [
      "2019 Subaru Outback\n",
      "This car has 23500 miles on it.\n",
      "This car has 23600 miles on it.\n"
     ]
    }
   ],
   "source": [
    "class Car:\n",
    "    \n",
    "    def __init__(self, make, model, year):\n",
    "        self.make = make\n",
    "        self.model = model\n",
    "        self.year = year\n",
    "        self.odometer_reading = 0\n",
    "\n",
    "    def get_descriptive_name(self):\n",
    "        long_name = f\"{self.year} {self.make} {self.model}\"\n",
    "        return long_name.title()\n",
    "        \n",
    "    def read_odometer_reading(self):\n",
    "        print(f\"This car has {self.odometer_reading} miles on it.\")\n",
    "\n",
    "    def update_odometer(self, mileage):\n",
    "        if mileage >= self.odometer_reading:\n",
    "            self.odometer_reading = mileage\n",
    "        else:\n",
    "            print(\"You can not roll back an odometer!\")\n",
    "\n",
    "    def increment_odometer(self, miles):\n",
    "        self.odometer_reading += miles \n",
    "\n",
    "my_used_car = Car('subaru', 'outback', 2019)\n",
    "print(my_used_car.get_descriptive_name())\n",
    "my_used_car.update_odometer(23_500)\n",
    "my_used_car.read_odometer_reading()\n",
    "my_used_car.increment_odometer(100)\n",
    "my_used_car.read_odometer_reading()"
   ]
  },
  {
   "cell_type": "code",
   "execution_count": 40,
   "id": "80a3c5e4-ec44-4d98-bb5d-5a04b3a63c1e",
   "metadata": {},
   "outputs": [
    {
     "name": "stdout",
     "output_type": "stream",
     "text": [
      "Number served: 0\n",
      "Number served after setting: 10\n",
      "Number served after incrementing: 15\n"
     ]
    }
   ],
   "source": [
    "class Restaurant:\n",
    "    def __init__(self, restaurant_name, cuisine_type):\n",
    "        self.restaurant_name = restaurant_name\n",
    "        self.cuisine_type = cuisine_type\n",
    "        self.number_served = 0\n",
    "\n",
    "    def describe_restaurant(self):\n",
    "        print(f\"Restaurant_name: {self.restaurant_name}\")\n",
    "        print(f\"Cuisine_type: {self.cuisine_type}\")\n",
    "\n",
    "    def open_restaurant(self):\n",
    "        print(f\"The restaurant {self.restaurant_name} is now open!\")\n",
    "\n",
    "    def set_number_served(self, number):\n",
    "        self.number_served = number\n",
    "\n",
    "    def increment_number_served(self, increment):\n",
    "        self.number_served += increment\n",
    "\n",
    "\n",
    "restaurant = Restaurant('Happy Eats', 'Italian')\n",
    "print(f\"Number served: {restaurant.number_served}\")\n",
    "\n",
    "\n",
    "restaurant.set_number_served(10)\n",
    "print(f\"Number served after setting: {restaurant.number_served}\")\n",
    "\n",
    "\n",
    "restaurant.increment_number_served(5)\n",
    "print(f\"Number served after incrementing: {restaurant.number_served}\")\n"
   ]
  },
  {
   "cell_type": "code",
   "execution_count": 42,
   "id": "acd41559-86b1-4bf2-969b-766a24678fc5",
   "metadata": {},
   "outputs": [
    {
     "name": "stdout",
     "output_type": "stream",
     "text": [
      "Login attempts after incrementing: 3\n",
      "Login attempts after resetting: 0\n"
     ]
    }
   ],
   "source": [
    "class User:\n",
    "    def __init__(self, first_name, last_name, age, location):\n",
    "        self.first_name = first_name\n",
    "        self.last_name = last_name\n",
    "        self.age = age\n",
    "        self.location = location\n",
    "        self.login_attempts = 0  # Initialize login attempts to 0\n",
    "\n",
    "    def describe_user(self):\n",
    "        print(f\"User: {self.first_name} {self.last_name}\")\n",
    "        print(f\"Age: {self.age}\")\n",
    "        print(f\"Location: {self.location}\")\n",
    "\n",
    "    def greet_user(self):\n",
    "        print(f\"Hello, {self.first_name} {self.last_name}! Welcome back.\")\n",
    "\n",
    "    def increment_login_attempts(self):\n",
    "        self.login_attempts += 1  # Increment login attempts\n",
    "\n",
    "    def reset_login_attempts(self):\n",
    "        self.login_attempts = 0  # Reset login attempts\n",
    "\n",
    "# Create a user instance and test methods\n",
    "user = User('John', 'Doe', 30, 'New York')\n",
    "\n",
    "# Call the increment_login_attempts method multiple times and print\n",
    "user.increment_login_attempts()\n",
    "user.increment_login_attempts()\n",
    "user.increment_login_attempts()\n",
    "print(f\"Login attempts after incrementing: {user.login_attempts}\")\n",
    "\n",
    "# Call the reset_login_attempts method and print\n",
    "user.reset_login_attempts()\n",
    "print(f\"Login attempts after resetting: {user.login_attempts}\")\n"
   ]
  },
  {
   "cell_type": "code",
   "execution_count": 45,
   "id": "b1cb6d9b-a4e3-437e-836e-f06002a92a3e",
   "metadata": {},
   "outputs": [],
   "source": [
    "class Car:\n",
    "    def __init__(self, make, model, year):\n",
    "\n",
    "        self.make = make\n",
    "        self.model = model\n",
    "        self.year = year\n",
    "        self.odometer_reading = 0\n",
    "    def get_descriptive_name(self):\n",
    "        long_naem = f\"{self.year} {self.make} {self.model}\"\n",
    "        return long_name.title()\n",
    "\n",
    "    def read_odometer(self):\n",
    "            print(f\"This car has {self.odometer_reading} miles on it.\")\n",
    "\n",
    "    def update_odometer(self, mileage):\n",
    "        if mileage >= self.odometer_reading:\n",
    "            self.odometer_reading = mileage\n",
    "        else:\n",
    "            print(\"You can't roll back an odometer!\")"
   ]
  },
  {
   "cell_type": "code",
   "execution_count": 47,
   "id": "a53b6916-b410-4773-9318-0d73e2257155",
   "metadata": {},
   "outputs": [
    {
     "name": "stdout",
     "output_type": "stream",
     "text": [
      "2024 Nissan Leaf\n"
     ]
    }
   ],
   "source": [
    "class ElectricCar(Car):  \n",
    "    def __init__(self, make, model, year):\n",
    "        super().__init__(make, model, year)\n",
    "\n",
    "    def get_descriptive_name(self):\n",
    "        long_name = f\"{self.year} {self.make} {self.model}\"  \n",
    "        return long_name.title()\n",
    "\n",
    "    def read_odometer(self):\n",
    "        print(f\"This car has {self.odometer_reading} miles on it.\")\n",
    "\n",
    "    def update_odometer(self, mileage):\n",
    "        if mileage >= self.odometer_reading:\n",
    "            self.odometer_reading = mileage\n",
    "        else:\n",
    "            print(\"You can't roll back an odometer!\")\n",
    "\n",
    "my_leaf = ElectricCar('nissan', 'leaf', 2024)  \n",
    "print(my_leaf.get_descriptive_name())"
   ]
  },
  {
   "cell_type": "code",
   "execution_count": 55,
   "id": "0bc4208a-5097-4b2d-b278-ffe55934ce77",
   "metadata": {},
   "outputs": [
    {
     "name": "stdout",
     "output_type": "stream",
     "text": [
      "2024 Nissan Leaf\n",
      "This car has 0 miles on it.\n",
      "This car has 150 miles on it.\n"
     ]
    }
   ],
   "source": [
    "class Car:\n",
    "    def __init__(self, make, model, year):\n",
    "        self.make = make\n",
    "        self.model = model\n",
    "        self.year = year\n",
    "        self.odometer_reading = 0  \n",
    "\n",
    "    def get_descriptive_name(self):\n",
    "        long_name = f\"{self.year} {self.make} {self.model}\"\n",
    "        return long_name.title()\n",
    "\n",
    "    def read_odometer(self):\n",
    "        print(f\"This car has {self.odometer_reading} miles on it.\")\n",
    "\n",
    "    def update_odometer(self, mileage):\n",
    "        if mileage >= self.odometer_reading:\n",
    "            self.odometer_reading = mileage\n",
    "        else:\n",
    "            print(\"You can't roll back an odometer!\")\n",
    "\n",
    "\n",
    "class ElectricCar(Car):  \n",
    "    def __init__(self, make, model, year):\n",
    "        super().__init__(make, model, year)  \n",
    "\n",
    "    def get_descriptive_name(self):\n",
    "        long_name = f\"{self.year} {self.make} {self.model}\"\n",
    "        return long_name.title()\n",
    "\n",
    "\n",
    "my_leaf = ElectricCar('nissan', 'leaf', 2024)\n",
    "print(my_leaf.get_descriptive_name())\n",
    "my_leaf.read_odometer() \n",
    "\n",
    "my_leaf.update_odometer(150)\n",
    "my_leaf.read_odometer()\n"
   ]
  },
  {
   "cell_type": "code",
   "execution_count": 56,
   "id": "6766aa4a-dbe6-4adb-8cc4-9dc5d4a34ccd",
   "metadata": {},
   "outputs": [
    {
     "name": "stdout",
     "output_type": "stream",
     "text": [
      "2024 Nissan Leaf\n",
      "This car has 0 miles on it.\n",
      "This car has 150 miles on it.\n",
      "This car has a 40 - kwh battery.\n"
     ]
    }
   ],
   "source": [
    "class Car:\n",
    "    def __init__(self, make, model, year):\n",
    "        self.make = make\n",
    "        self.model = model\n",
    "        self.year = year\n",
    "        self.odometer_reading = 0  \n",
    "\n",
    "    def get_descriptive_name(self):\n",
    "        long_name = f\"{self.year} {self.make} {self.model}\"\n",
    "        return long_name.title()\n",
    "\n",
    "    def read_odometer(self):\n",
    "        print(f\"This car has {self.odometer_reading} miles on it.\")\n",
    "\n",
    "    def update_odometer(self, mileage):\n",
    "        if mileage >= self.odometer_reading:\n",
    "            self.odometer_reading = mileage\n",
    "        else:\n",
    "            print(\"You can't roll back an odometer!\")\n",
    "\n",
    "\n",
    "class ElectricCar(Car):  \n",
    "    def __init__(self, make, model, year):\n",
    "        super().__init__(make, model, year)\n",
    "        self.battery_size = 40\n",
    "\n",
    "    def get_descriptive_name(self):\n",
    "        long_name = f\"{self.year} {self.make} {self.model}\"\n",
    "        return long_name.title()\n",
    "\n",
    "    def describe_battery(self):\n",
    "        print(f\"This car has a {self.battery_size} - kwh battery.\")\n",
    "\n",
    "\n",
    "my_leaf = ElectricCar('nissan', 'leaf', 2024)\n",
    "print(my_leaf.get_descriptive_name())\n",
    "my_leaf.read_odometer() \n",
    "\n",
    "my_leaf.update_odometer(150)\n",
    "my_leaf.read_odometer()\n",
    "my_leaf.describe_battery()"
   ]
  },
  {
   "cell_type": "code",
   "execution_count": 57,
   "id": "2fd549cc-bcde-400e-a393-7cadcf96364c",
   "metadata": {},
   "outputs": [
    {
     "name": "stdout",
     "output_type": "stream",
     "text": [
      "2024 Nissan Leaf\n",
      "This car has 0 miles on it.\n",
      "This car has 150 miles on it.\n",
      "This car has a 40 - kwh battery.\n"
     ]
    }
   ],
   "source": [
    "class Car:\n",
    "    def __init__(self, make, model, year):\n",
    "        self.make = make\n",
    "        self.model = model\n",
    "        self.year = year\n",
    "        self.odometer_reading = 0  \n",
    "\n",
    "    def get_descriptive_name(self):\n",
    "        long_name = f\"{self.year} {self.make} {self.model}\"\n",
    "        return long_name.title()\n",
    "\n",
    "    def read_odometer(self):\n",
    "        print(f\"This car has {self.odometer_reading} miles on it.\")\n",
    "\n",
    "    def update_odometer(self, mileage):\n",
    "        if mileage >= self.odometer_reading:\n",
    "            self.odometer_reading = mileage\n",
    "        else:\n",
    "            print(\"You can't roll back an odometer!\")\n",
    "\n",
    "class Battery:\n",
    "    def __init__(self, battery_size=40):\n",
    "        self.battery_size = battery_size\n",
    "\n",
    "    def describe_battery(self):\n",
    "        print(f\"This car has a {self.battery_size} - kwh battery.\")\n",
    "\n",
    "\n",
    "class ElectricCar(Car):  \n",
    "    def __init__(self, make, model, year):\n",
    "        super().__init__(make, model, year)\n",
    "        self.Battery = Battery()\n",
    "\n",
    "    def get_descriptive_name(self):\n",
    "        long_name = f\"{self.year} {self.make} {self.model}\"\n",
    "        return long_name.title()\n",
    "\n",
    "\n",
    "\n",
    "my_leaf = ElectricCar('nissan', 'leaf', 2024)\n",
    "print(my_leaf.get_descriptive_name())\n",
    "my_leaf.read_odometer() \n",
    "\n",
    "my_leaf.update_odometer(150)\n",
    "my_leaf.read_odometer()\n",
    "my_leaf.Battery.describe_battery()"
   ]
  },
  {
   "cell_type": "code",
   "execution_count": 59,
   "id": "bbe33bc7-f883-461f-9452-5658fd2a803b",
   "metadata": {},
   "outputs": [
    {
     "name": "stdout",
     "output_type": "stream",
     "text": [
      "2024 Nissan Leaf\n",
      "This car has 0 miles on it.\n",
      "This car has 150 miles on it.\n",
      "This car has a 40 - kwh battery.\n",
      "This car can go about 150 miles on a full charge.\n"
     ]
    }
   ],
   "source": [
    "class Car:\n",
    "    def __init__(self, make, model, year):\n",
    "        self.make = make\n",
    "        self.model = model\n",
    "        self.year = year\n",
    "        self.odometer_reading = 0  \n",
    "\n",
    "    def get_descriptive_name(self):\n",
    "        long_name = f\"{self.year} {self.make} {self.model}\"\n",
    "        return long_name.title()\n",
    "\n",
    "    def read_odometer(self):\n",
    "        print(f\"This car has {self.odometer_reading} miles on it.\")\n",
    "\n",
    "    def update_odometer(self, mileage):\n",
    "        if mileage >= self.odometer_reading:\n",
    "            self.odometer_reading = mileage\n",
    "        else:\n",
    "            print(\"You can't roll back an odometer!\")\n",
    "\n",
    "class Battery:\n",
    "    def __init__(self, battery_size=40):\n",
    "        self.battery_size = battery_size\n",
    "\n",
    "    def describe_battery(self):\n",
    "        print(f\"This car has a {self.battery_size} - kwh battery.\")\n",
    "\n",
    "    def get_range(self):\n",
    "        if self.battery_size == 40:\n",
    "            range = 150\n",
    "\n",
    "        elif self.battery_size == 65:\n",
    "            range = 25\n",
    "\n",
    "        print(f\"This car can go about {range} miles on a full charge.\")\n",
    "\n",
    "\n",
    "class ElectricCar(Car):  \n",
    "    def __init__(self, make, model, year):\n",
    "        super().__init__(make, model, year)\n",
    "        self.Battery = Battery()\n",
    "\n",
    "    def get_descriptive_name(self):\n",
    "        long_name = f\"{self.year} {self.make} {self.model}\"\n",
    "        return long_name.title()\n",
    "\n",
    "\n",
    "\n",
    "my_leaf = ElectricCar('nissan', 'leaf', 2024)\n",
    "print(my_leaf.get_descriptive_name())\n",
    "my_leaf.read_odometer() \n",
    "\n",
    "my_leaf.update_odometer(150)\n",
    "my_leaf.read_odometer()\n",
    "my_leaf.Battery.describe_battery()\n",
    "my_leaf.Battery.get_range()"
   ]
  },
  {
   "cell_type": "code",
   "execution_count": 61,
   "id": "d5a14013-832f-4d4b-b638-18f11890751b",
   "metadata": {},
   "outputs": [
    {
     "name": "stdout",
     "output_type": "stream",
     "text": [
      "\n",
      "Available falvors:\n",
      " - Vanilla\n",
      " - Chocolate\n",
      " - Strawberry\n"
     ]
    }
   ],
   "source": [
    "class Restaurant: \n",
    "    def __init__(self, restaurant_name, cuisine_type):\n",
    "        self.restaurant_name = restaurant_name\n",
    "        self.cuisine_type = cuisine_type\n",
    "\n",
    "    def describe_restaurant(self):\n",
    "        print(f\"Restaurant name: {self.restaurant_name.title()}\")\n",
    "        print(f\"Cuisine_type: {self.cuisine_type.title()}\")\n",
    "\n",
    "    def open_restaurant(self):\n",
    "        print(f\"The restaurant {self.restaurant_name.title()} is now open. Welcome!\")\n",
    "\n",
    "class IceCreamStand(Restaurant):\n",
    "    def __init__(self, restaurant_name, cuisine_type='Ice Cream'):\n",
    "        super().__init__(restaurant_name, cuisine_type)\n",
    "        self.flavors = []\n",
    "\n",
    "    def add_flavors(self, *flavors):\n",
    "        self.flavors.extend(flavors)\n",
    "\n",
    "    def show_flavors(self):\n",
    "        print(\"\\nAvailable falvors:\")\n",
    "        for flavor in self.flavors:\n",
    "            print(f\" - {flavor}\")\n",
    "\n",
    "ice_cream_stand = IceCreamStand('Sweet Treats')\n",
    "ice_cream_stand.add_flavors('Vanilla', 'Chocolate', 'Strawberry')\n",
    "ice_cream_stand.show_flavors()"
   ]
  },
  {
   "cell_type": "code",
   "execution_count": 62,
   "id": "8d98cc7f-341c-4e2a-ab67-ccd8daecb3f5",
   "metadata": {},
   "outputs": [
    {
     "name": "stdout",
     "output_type": "stream",
     "text": [
      "Admin privileges:\n",
      "- can add post\n",
      "- can delete post\n",
      "- can ban user\n"
     ]
    }
   ],
   "source": [
    "class User:\n",
    "    def __init__(self, first_name, last_name, age, location):\n",
    "        self.first_name = first_name\n",
    "        self.last_name = last_name\n",
    "        self.age = age\n",
    "        self.location = location\n",
    "\n",
    "    def describe_user(self):\n",
    "        print(f\"User: {self.first_name} {self.last_name}\")\n",
    "        print(f\"Age: {self.age}\")\n",
    "        print(f\"Location: {self.location}\")\n",
    "\n",
    "    def greet_user(self):\n",
    "        print(f\"Hello, {self.first_name} {self.last_name}! Welcome back.\")\n",
    "\n",
    "class Admin(User):\n",
    "    def __init__(self, first_name, last_name, age, location):\n",
    "        super().__init__(first_name, last_name, age, location)\n",
    "        self.privileges = [\"can add post\", \"can delete post\", \"can ban user\"]\n",
    "\n",
    "    def show_privileges(self):\n",
    "        print(\"Admin privileges:\")\n",
    "        for privilege in self.privileges:\n",
    "            print(f\"- {privilege}\")\n",
    "\n",
    "\n",
    "admin_user = Admin('John', 'Smith', 30, 'New York')\n",
    "admin_user.show_privileges()\n"
   ]
  },
  {
   "cell_type": "code",
   "execution_count": 65,
   "id": "081bb263-28de-4be2-8f64-33e0bec8d0c0",
   "metadata": {},
   "outputs": [
    {
     "name": "stdout",
     "output_type": "stream",
     "text": [
      "Privileges:\n",
      "- can add post\n",
      "- can delete post\n",
      "- can ban user\n"
     ]
    }
   ],
   "source": [
    "class User:\n",
    "    def __init__(self, first_name, last_name, age, location):\n",
    "        self.first_name = first_name\n",
    "        self.last_name = last_name\n",
    "        self.age = age\n",
    "        self.location = location\n",
    "\n",
    "    def describe_user(self):\n",
    "        print(f\"User: {self.first_name} {self.last_name}\")\n",
    "        print(f\"Age: {self.age}\")\n",
    "        print(f\"Location: {self.location}\")\n",
    "\n",
    "    def greet_user(self):\n",
    "        print(f\"Hello, {self.first_name} {self.last_name}! Welcome back.\")\n",
    "\n",
    "class Privileges:\n",
    "    def __init__(self):\n",
    "        self.privileges = [\"can add post\", \"can delete post\", \"can ban user\"]\n",
    "\n",
    "    def show_privileges(self):\n",
    "        print(\"Privileges:\")\n",
    "        for privilege in self.privileges:\n",
    "            print(f\"- {privilege}\")\n",
    "\n",
    "class Admin(User):\n",
    "    def __init__(self, first_name, last_name, age, location):\n",
    "        super().__init__(first_name, last_name, age, location)\n",
    "        self.privileges = Privileges()\n",
    "\n",
    "admin_user = Admin('Alice', 'Johnson', 35, 'Los Angeles')\n",
    "admin_user.privileges.show_privileges()\n",
    "\n"
   ]
  },
  {
   "cell_type": "code",
   "execution_count": 66,
   "id": "750f4120-5b2e-436f-8e7c-d92995f6fd8a",
   "metadata": {},
   "outputs": [
    {
     "name": "stdout",
     "output_type": "stream",
     "text": [
      "This car can go approximately 200 miles on a full charge.\n",
      "This car can go approximately 260 miles on a full charge.\n"
     ]
    }
   ],
   "source": [
    "class Battery:\n",
    "    def __init__(self, battery_size=50):\n",
    "        self.battery_size = battery_size\n",
    "\n",
    "    def describe_battery(self):\n",
    "        print(f\"This car has a {self.battery_size}-kWh battery.\")\n",
    "\n",
    "    def get_range(self):\n",
    "        if self.battery_size == 65:\n",
    "            range = 260\n",
    "        else:\n",
    "            range = 200\n",
    "        print(f\"This car can go approximately {range} miles on a full charge.\")\n",
    "\n",
    "    def upgrade_battery(self):\n",
    "        if self.battery_size != 65:\n",
    "            self.battery_size = 65\n",
    "\n",
    "class ElectricCar(Car):\n",
    "    def __init__(self, make, model, year):\n",
    "        super().__init__(make, model, year)\n",
    "        self.battery = Battery()\n",
    "\n",
    "\n",
    "my_tesla = ElectricCar('tesla', 'model s', 2024)\n",
    "my_tesla.battery.get_range()      \n",
    "my_tesla.battery.upgrade_battery() \n",
    "my_tesla.battery.get_range()       \n"
   ]
  },
  {
   "cell_type": "code",
   "execution_count": 5,
   "id": "083f1f47-04de-4621-8253-e835950ae427",
   "metadata": {},
   "outputs": [
    {
     "name": "stdout",
     "output_type": "stream",
     "text": [
      "2024 Audi A4\n",
      "This car has 23 miles on it.\n"
     ]
    }
   ],
   "source": [
    "from car import Car\n",
    "\n",
    "my_new_car = Car('audi', 'a4', 2024)\n",
    "print(my_new_car.get_descriptive_name())\n",
    "\n",
    "my_new_car.odometer_reading = 23\n",
    "my_new_car.read_odometer()"
   ]
  },
  {
   "cell_type": "code",
   "execution_count": 2,
   "id": "52857ccd-2aea-4dbe-8565-c85abed910f3",
   "metadata": {},
   "outputs": [
    {
     "name": "stdout",
     "output_type": "stream",
     "text": [
      "2024 Nissan Leaf\n",
      "This car has a 40 - kwh battery.\n",
      "This car go about 50 miles on a full charge.\n"
     ]
    }
   ],
   "source": [
    "from car import ElectricCar\n",
    "\n",
    "my_leaf = ElectricCar('nissan', 'leaf', 2024)\n",
    "print(my_leaf.get_descriptive_name())\n",
    "my_leaf.battery.describe_battery()\n",
    "my_leaf.battery.get_range()"
   ]
  },
  {
   "cell_type": "code",
   "execution_count": 3,
   "id": "5a48c352-0c43-4e1b-98ba-ef56f997bbe0",
   "metadata": {},
   "outputs": [
    {
     "name": "stdout",
     "output_type": "stream",
     "text": [
      "2024 Ford Mustang\n",
      "2024 Nissan Leaf\n"
     ]
    }
   ],
   "source": [
    "from car import Car, ElectricCar\n",
    "\n",
    "my_mustang = Car('ford', 'mustang', 2024)\n",
    "print(my_mustang.get_descriptive_name())\n",
    "my_leaf = ElectricCar('nissan', 'leaf', 2024)\n",
    "print(my_leaf.get_descriptive_name())"
   ]
  },
  {
   "cell_type": "code",
   "execution_count": 4,
   "id": "422712dc-b26d-4837-87bc-e03695a1d2c1",
   "metadata": {},
   "outputs": [
    {
     "name": "stdout",
     "output_type": "stream",
     "text": [
      "2024 Ford Mustang\n",
      "2024 Nissan Leaf\n"
     ]
    }
   ],
   "source": [
    "import car\n",
    "\n",
    "my_mustang = car.Car('ford', 'mustang', 2024)\n",
    "print(my_mustang.get_descriptive_name())\n",
    "\n",
    "my_leaf = car.ElectricCar('nissan', 'leaf', 2024)\n",
    "print(my_leaf.get_descriptive_name())"
   ]
  },
  {
   "cell_type": "code",
   "execution_count": 5,
   "id": "ce0f07ef-1f7d-4a36-af6a-9819cd2f6096",
   "metadata": {},
   "outputs": [
    {
     "name": "stdout",
     "output_type": "stream",
     "text": [
      "2024 Nissan Leaf\n"
     ]
    }
   ],
   "source": [
    "from car import ElectricCar as EC\n",
    "my_leaf = EC('nissan', 'leaf', 2024)\n",
    "print(my_leaf.get_descriptive_name())"
   ]
  },
  {
   "cell_type": "code",
   "execution_count": 6,
   "id": "b8ef29af-d5b1-401e-8096-819927e3890f",
   "metadata": {},
   "outputs": [
    {
     "name": "stdout",
     "output_type": "stream",
     "text": [
      "The restaurant Golden Spoon serves Italian cuisine.\n",
      "Golden Spoon is now open!\n"
     ]
    }
   ],
   "source": [
    "from restaurant import Restaurant\n",
    "\n",
    "my_restaurant = Restaurant('Golden Spoon', 'Italian')\n",
    "my_restaurant.describe_restaurant()\n",
    "my_restaurant.open_restaurant()"
   ]
  },
  {
   "cell_type": "code",
   "execution_count": 7,
   "id": "2c2790c7-a83b-44f4-90e3-ac280a1fc8f8",
   "metadata": {},
   "outputs": [
    {
     "name": "stdout",
     "output_type": "stream",
     "text": [
      "Privileges:\n",
      "- can add post\n",
      "- can delete post\n",
      "- can ban user\n"
     ]
    }
   ],
   "source": [
    "from user import Admin\n",
    "\n",
    "admin_user = Admin('Alice', 'Johnson', 35, 'New York')\n",
    "admin_user.privileges.show_privileges()"
   ]
  },
  {
   "cell_type": "code",
   "execution_count": 9,
   "id": "e03c6d06-4b4c-42e8-b998-42483ee273d7",
   "metadata": {},
   "outputs": [
    {
     "name": "stdout",
     "output_type": "stream",
     "text": [
      "Privileges:\n",
      "- can add post\n",
      "- can delete post\n",
      "- can ban user\n"
     ]
    }
   ],
   "source": [
    "from privileges import Admin\n",
    "\n",
    "admin_user = Admin('Bob', 'Smith', 40, 'Los Angeles')\n",
    "admin_user.privileges.show_privileges()"
   ]
  },
  {
   "cell_type": "code",
   "execution_count": 10,
   "id": "25704062-2d8b-4ead-9334-d63548e64c5e",
   "metadata": {},
   "outputs": [
    {
     "data": {
      "text/plain": [
       "1"
      ]
     },
     "execution_count": 10,
     "metadata": {},
     "output_type": "execute_result"
    }
   ],
   "source": [
    "from random import randint\n",
    "randint(1, 6)"
   ]
  },
  {
   "cell_type": "code",
   "execution_count": 12,
   "id": "4a322d73-d762-443a-b4b3-a378ab61cf4d",
   "metadata": {},
   "outputs": [
    {
     "data": {
      "text/plain": [
       "'michael'"
      ]
     },
     "execution_count": 12,
     "metadata": {},
     "output_type": "execute_result"
    }
   ],
   "source": [
    "from random import choice\n",
    "players = ['charles', 'martina', 'michael', 'florence', 'eli']\n",
    "first_up = choice(players)\n",
    "first_up"
   ]
  },
  {
   "cell_type": "code",
   "execution_count": 14,
   "id": "0901a6fb-d9c9-4dce-9d2a-529767d99d9d",
   "metadata": {},
   "outputs": [
    {
     "name": "stdout",
     "output_type": "stream",
     "text": [
      "6-sided die rolls:\n",
      "5\n",
      "3\n",
      "3\n",
      "3\n",
      "1\n",
      "5\n",
      "3\n",
      "5\n",
      "4\n",
      "2\n",
      "\n",
      "10-sided die rolls:\n",
      "6\n",
      "9\n",
      "3\n",
      "2\n",
      "5\n",
      "3\n",
      "1\n",
      "1\n",
      "7\n",
      "5\n",
      "\n",
      "20-sided die rolls:\n",
      "8\n",
      "6\n",
      "20\n",
      "1\n",
      "6\n",
      "5\n",
      "20\n",
      "8\n",
      "1\n",
      "9\n"
     ]
    }
   ],
   "source": [
    "import random\n",
    "\n",
    "class Die:\n",
    "    def __init__(self, sides=6):\n",
    "        self.sides = sides\n",
    "\n",
    "    def roll_die(self):\n",
    "        return random.randint(1, self.sides)\n",
    "\n",
    "die_6 = Die()\n",
    "print(\"6-sided die rolls:\")\n",
    "for _ in range(10):\n",
    "    print(die_6.roll_die())\n",
    "\n",
    "die_10 = Die(10)\n",
    "print(\"\\n10-sided die rolls:\")\n",
    "for _ in range(10):\n",
    "    print(die_10.roll_die())\n",
    "\n",
    "die_20 = Die(20)\n",
    "print(\"\\n20-sided die rolls:\")\n",
    "for _ in range(10):\n",
    "    print(die_20.roll_die())\n"
   ]
  },
  {
   "cell_type": "code",
   "execution_count": 15,
   "id": "76c9cae2-cc6f-4e18-ad69-77f33edf7895",
   "metadata": {},
   "outputs": [
    {
     "name": "stdout",
     "output_type": "stream",
     "text": [
      "Winning ticket: [5, 'D', 10, 'B']\n"
     ]
    }
   ],
   "source": [
    "import random\n",
    "\n",
    "elements = [1, 2, 3, 4, 5, 6, 7, 8, 9, 10, 'A', 'B', 'C', 'D', 'E']\n",
    "\n",
    "winning_ticket = random.sample(elements, 4)\n",
    "print(\"Winning ticket:\", winning_ticket)\n"
   ]
  },
  {
   "cell_type": "code",
   "execution_count": 1,
   "id": "b50fcec8-9ee7-49ec-b23f-8c2f17b0c737",
   "metadata": {},
   "outputs": [
    {
     "name": "stdout",
     "output_type": "stream",
     "text": [
      "You won the lottery after 12166 attempts!\n"
     ]
    }
   ],
   "source": [
    "import random\n",
    "\n",
    "elements = [1, 2, 3, 4, 5, 6, 7, 8, 9, 10, 'A', 'B', 'C', 'D', 'E']\n",
    "my_ticket = [1, 'A', 3, 'D']\n",
    "\n",
    "attempts = 0\n",
    "while True:\n",
    "    attempts += 1\n",
    "    random_ticket = random.sample(elements, 4)\n",
    "    if random_ticket == my_ticket:\n",
    "        print(f\"You won the lottery after {attempts} attempts!\")\n",
    "        break"
   ]
  },
  {
   "cell_type": "code",
   "execution_count": null,
   "id": "9cee704a-ac7e-4639-a41a-b2fcffbdf5d3",
   "metadata": {},
   "outputs": [],
   "source": []
  }
 ],
 "metadata": {
  "kernelspec": {
   "display_name": "Python 3 (ipykernel)",
   "language": "python",
   "name": "python3"
  },
  "language_info": {
   "codemirror_mode": {
    "name": "ipython",
    "version": 3
   },
   "file_extension": ".py",
   "mimetype": "text/x-python",
   "name": "python",
   "nbconvert_exporter": "python",
   "pygments_lexer": "ipython3",
   "version": "3.12.7"
  }
 },
 "nbformat": 4,
 "nbformat_minor": 5
}
