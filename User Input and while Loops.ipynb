{
 "cells": [
  {
   "cell_type": "markdown",
   "id": "4963caa6-48d8-4557-965c-cea45b81b265",
   "metadata": {},
   "source": [
    "# User Input and while Loops"
   ]
  },
  {
   "cell_type": "code",
   "execution_count": null,
   "id": "5b71b22c-b490-4c04-a079-35de236285a2",
   "metadata": {},
   "outputs": [],
   "source": [
    "message = input(\"Tell me something, and I will repeat it back to you:\")\n",
    "print(message)"
   ]
  },
  {
   "cell_type": "code",
   "execution_count": null,
   "id": "49994a62-9ce4-4d10-9ff1-731092ed14bb",
   "metadata": {},
   "outputs": [],
   "source": [
    "name = input(\"Please enter your name: \")\n",
    "print(f\"\\nHello, {name}!\")"
   ]
  },
  {
   "cell_type": "code",
   "execution_count": null,
   "id": "15207ab3-2f59-4925-812b-70ef6b8cf264",
   "metadata": {},
   "outputs": [],
   "source": [
    "prompt = \"If you share your name, we can personalize the messages you see.\"\n",
    "prompt += \"\\nWhat is your first name?\"\n",
    "\n",
    "name = input(prompt)\n",
    "print(f\"\\nHello, {name}!\")"
   ]
  },
  {
   "cell_type": "code",
   "execution_count": null,
   "id": "d17c5bc5-fa18-4f3a-a8c6-733e4887f7b7",
   "metadata": {},
   "outputs": [],
   "source": [
    "age = input(\"How old are you?\")"
   ]
  },
  {
   "cell_type": "code",
   "execution_count": null,
   "id": "3671d2f5-2b15-4d8c-81e1-636e8ee88304",
   "metadata": {},
   "outputs": [],
   "source": [
    "age = input(\"How old are you?\")\n",
    "\n",
    "age = int(age)\n",
    "age >= 18"
   ]
  },
  {
   "cell_type": "code",
   "execution_count": null,
   "id": "352023ef-b385-4cd1-a9c0-a4aab92bdccf",
   "metadata": {},
   "outputs": [],
   "source": [
    "height = input(\"How old are you, in inches?\")\n",
    "height = int(height)\n",
    "\n",
    "if height >= 48:\n",
    "    print(\"\\nYou are tall enough to ride!\")\n",
    "else:\n",
    "    print(\"\\nYou'll be able to ride when you're a little older.\")"
   ]
  },
  {
   "cell_type": "code",
   "execution_count": 1,
   "id": "8bdf61e5-f009-46ab-ad3a-c3826ff718ad",
   "metadata": {},
   "outputs": [
    {
     "data": {
      "text/plain": [
       "1"
      ]
     },
     "execution_count": 1,
     "metadata": {},
     "output_type": "execute_result"
    }
   ],
   "source": [
    "4 % 3"
   ]
  },
  {
   "cell_type": "code",
   "execution_count": 2,
   "id": "7051fdc9-207c-4630-8ee1-9661207341ee",
   "metadata": {},
   "outputs": [
    {
     "data": {
      "text/plain": [
       "0"
      ]
     },
     "execution_count": 2,
     "metadata": {},
     "output_type": "execute_result"
    }
   ],
   "source": [
    "6 % 3"
   ]
  },
  {
   "cell_type": "code",
   "execution_count": null,
   "id": "a0456eb4-3ab6-47a5-9179-d842461173f2",
   "metadata": {},
   "outputs": [],
   "source": [
    "number = input(\"Enter a number, and I'll tell you if it's even or odd:\")\n",
    "number = int(number)\n",
    "\n",
    "if number % 2 == 0:\n",
    "    print(\"\\nThe number {number} is even.\")\n",
    "else:\n",
    "    print(\"\\nThe number {number} is odd.\")"
   ]
  },
  {
   "cell_type": "code",
   "execution_count": null,
   "id": "54081951-d2d5-4c79-8d8e-8517280066e4",
   "metadata": {},
   "outputs": [],
   "source": [
    "car = input(\"What kind of car would you like to rent?\")\n",
    "print(f\"\\nLet me see if I can find you a {car}.\")"
   ]
  },
  {
   "cell_type": "code",
   "execution_count": null,
   "id": "4165baf6-5f66-4d88-80c8-8199f6bdcafe",
   "metadata": {},
   "outputs": [],
   "source": [
    "people = input(\"How many people are in your dining party?\")\n",
    "\n",
    "people = int(people)\n",
    "\n",
    "if people >= 8:\n",
    "    print(\"\\nSorry, we have no available tables.\")\n",
    "else: \n",
    "    print(\"We have available tables.\")"
   ]
  },
  {
   "cell_type": "code",
   "execution_count": null,
   "id": "b64b7478-a5e7-4d7e-bb62-f589fddd4d8f",
   "metadata": {},
   "outputs": [],
   "source": [
    "number = input(\"Please input a number!\")\n",
    "number = int(number)\n",
    "if number % 10 == 0:\n",
    "    print(f\"\\nThe number {number} is a multiple of 10.\")\n",
    "else:\n",
    "    print(f\"The number {number} is not a multiple of 10.\")"
   ]
  },
  {
   "cell_type": "code",
   "execution_count": 2,
   "id": "92aef07c-44aa-4bd8-962f-f8cb194871fc",
   "metadata": {},
   "outputs": [
    {
     "name": "stdout",
     "output_type": "stream",
     "text": [
      "1\n",
      "2\n",
      "3\n",
      "4\n",
      "5\n"
     ]
    }
   ],
   "source": [
    "current_number = 1\n",
    "while current_number <= 5:\n",
    "    print(current_number)\n",
    "    current_number += 1"
   ]
  },
  {
   "cell_type": "code",
   "execution_count": null,
   "id": "03ec0126-6ff5-4506-a51e-e631213aa525",
   "metadata": {},
   "outputs": [],
   "source": [
    "prompt = \"\\nTell me something, and I will repeat it back to you:\"\n",
    "prompt += \"\\nEnter 'quit' to end the program.\"\n",
    "\n",
    "message = \"\"\n",
    "while message != 'quit':\n",
    "    message = input(prompt)\n",
    "    if message != 'quit':\n",
    "        print(message)"
   ]
  },
  {
   "cell_type": "code",
   "execution_count": null,
   "id": "be36a0d2-9899-458d-a4d3-c5ea6d1f65b0",
   "metadata": {},
   "outputs": [],
   "source": [
    "prompt = \"\\nTell me something, and I will repeat it back to you:\"\n",
    "prompt += \"\\nEnter 'quit' to end the program.\"\n",
    "\n",
    "active = True \n",
    "while active:\n",
    "    message = input(prompt)\n",
    "    if message == 'quit':\n",
    "        active = False \n",
    "    else:\n",
    "        print(message)"
   ]
  },
  {
   "cell_type": "code",
   "execution_count": null,
   "id": "bc64f7f3-3760-45f0-9caa-132d7c3db3a4",
   "metadata": {},
   "outputs": [],
   "source": [
    "prompt = \"\\nTell me something, and I will repeat it back to you:\"\n",
    "prompt += \"\\nEnter 'quit' to end the program.\"\n",
    "\n",
    "while True:\n",
    "    city = input(prompt)\n",
    "    if city == 'quit':\n",
    "        break\n",
    "    else:\n",
    "        print(f\"I'd love to go to {city.title()}!\")"
   ]
  },
  {
   "cell_type": "code",
   "execution_count": 1,
   "id": "a75e4f51-6b3f-45ab-8770-658b25e02a73",
   "metadata": {},
   "outputs": [
    {
     "name": "stdout",
     "output_type": "stream",
     "text": [
      "1\n",
      "3\n",
      "5\n",
      "7\n",
      "9\n"
     ]
    }
   ],
   "source": [
    "current_number = 0\n",
    "while current_number < 10:\n",
    "    current_number += 1\n",
    "    if current_number % 2 == 0:\n",
    "        continue\n",
    "    print(current_number)"
   ]
  },
  {
   "cell_type": "code",
   "execution_count": null,
   "id": "13aee4c0-65b8-4ac0-b9dc-11107ee2d47f",
   "metadata": {},
   "outputs": [],
   "source": [
    "x = 1\n",
    "while x <= 5:\n",
    "    print(x)\n",
    "    x += 1"
   ]
  },
  {
   "cell_type": "code",
   "execution_count": null,
   "id": "67864ae8-751e-4219-8210-f31fb12970bc",
   "metadata": {},
   "outputs": [],
   "source": [
    "x = 1\n",
    "while x <= 5:\n",
    "    print(x)"
   ]
  },
  {
   "cell_type": "code",
   "execution_count": null,
   "id": "9c517a7f-b733-4dbc-851a-5551d30af201",
   "metadata": {},
   "outputs": [],
   "source": [
    "while True:\n",
    "    Topping = input(\"Please enter a pizza topping or 'quit' to finish:\")\n",
    "    if Topping == 'quit':\n",
    "        break \n",
    "    else:\n",
    "        print(f\"Adding {Topping} to your pizza.\")"
   ]
  },
  {
   "cell_type": "code",
   "execution_count": null,
   "id": "8f699c78-c753-4149-abd6-0ff7b52448f5",
   "metadata": {},
   "outputs": [],
   "source": [
    "while True:\n",
    "    age = input(\"Please enter your age or enter quit to finish:\")\n",
    "    if age == 'quit':\n",
    "        break \n",
    "    age = int(age)\n",
    "    if age <= 3:\n",
    "        print(\"Your ticket is free\")\n",
    "    elif 3 < age <= 12:\n",
    "        print(\"Your ticket costs $10\")\n",
    "    else:\n",
    "        print(\"Your ticket costs $15\")\n",
    "    "
   ]
  },
  {
   "cell_type": "code",
   "execution_count": null,
   "id": "3fb482c2-5b8b-44e5-af76-871b261731a9",
   "metadata": {},
   "outputs": [],
   "source": [
    "active = True\n",
    "while active:\n",
    "    Topping = input(\"Please enter a pizza topping or 'quit' to finish:\")\n",
    "    if Topping == 'quit':\n",
    "        active = False \n",
    "    else:\n",
    "        print(f\"Adding {Topping} to your pizza.\")"
   ]
  },
  {
   "cell_type": "code",
   "execution_count": 5,
   "id": "34f4f897-8a97-438f-9193-49c81b91eee9",
   "metadata": {},
   "outputs": [
    {
     "name": "stdout",
     "output_type": "stream",
     "text": [
      "Verifying user: Candace\n",
      "Verifying user: Brain\n",
      "Verifying user: Alice\n",
      "\n",
      "The following users have been confirmed:\n",
      "Candace\n",
      "Brain\n",
      "Alice\n"
     ]
    }
   ],
   "source": [
    "unconfirmed_users = ['alice', 'brain', 'candace']\n",
    "confirmed_users = []\n",
    "\n",
    "while unconfirmed_users:\n",
    "    current_user = unconfirmed_users.pop()\n",
    "    print(f\"Verifying user: {current_user.title()}\")\n",
    "    confirmed_users.append(current_user)\n",
    "\n",
    "print(f\"\\nThe following users have been confirmed:\")\n",
    "for confirmed_user in confirmed_users:\n",
    "    print(confirmed_user.title())\n",
    "\n"
   ]
  },
  {
   "cell_type": "code",
   "execution_count": 7,
   "id": "fa8491d9-491a-43a9-ba7f-a34b5f6104da",
   "metadata": {},
   "outputs": [
    {
     "name": "stdout",
     "output_type": "stream",
     "text": [
      "['dog', 'cat', 'dog', 'goldfish', 'cat', 'rabbit', 'cat']\n",
      "['dog', 'dog', 'goldfish', 'rabbit']\n"
     ]
    }
   ],
   "source": [
    "pets = ['dog', 'cat', 'dog', 'goldfish', 'cat', 'rabbit', 'cat']\n",
    "print(pets)\n",
    "\n",
    "while 'cat' in pets:\n",
    "    pets.remove('cat')\n",
    "\n",
    "print(pets)"
   ]
  },
  {
   "cell_type": "code",
   "execution_count": null,
   "id": "77179257-36ea-44a8-8d60-fb6e8da5b6dd",
   "metadata": {},
   "outputs": [],
   "source": [
    "responses = {}\n",
    "polling_active = True \n",
    "while polling_active:\n",
    "    name = input(\"\\nWhat is your name?\")\n",
    "    response = input(\"Which mountain would you like to climb someday?\")\n",
    "\n",
    "    responses[name] = response \n",
    "\n",
    "    repeat = input(\"Would you like to let another person respond? (yes/no)\")\n",
    "    if repeat == 'no':\n",
    "        polling_active = False\n",
    "\n",
    "print(\"\\n--- Poll Results ---\")\n",
    "for name, response in responses.items():\n",
    "    print(f\"{name} would like to climb {response}.\")"
   ]
  },
  {
   "cell_type": "code",
   "execution_count": 2,
   "id": "caddfa9f-1381-4762-b6c4-a8cb0708eba9",
   "metadata": {},
   "outputs": [
    {
     "name": "stdout",
     "output_type": "stream",
     "text": [
      "I made your veggie.\n",
      "I made your ham.\n",
      "I made your tuna.\n",
      "\n",
      "The following orders have been made:\n",
      "veggie\n",
      "ham\n",
      "tuna\n"
     ]
    }
   ],
   "source": [
    "sandwich_orders = ['tuna', 'ham', 'veggie']\n",
    "finished_sandwiches = []\n",
    "\n",
    "while sandwich_orders:\n",
    "    current_sandwich = sandwich_orders.pop()\n",
    "    print(f\"I made your {current_sandwich}.\")\n",
    "    finished_sandwiches.append(current_sandwich)\n",
    "\n",
    "print(\"\\nThe following orders have been made:\")\n",
    "for finished_sandwich in finished_sandwiches:\n",
    "    print(finished_sandwich)"
   ]
  },
  {
   "cell_type": "code",
   "execution_count": 3,
   "id": "0c836330-cf4d-42f1-a93a-ae560cdd9fe8",
   "metadata": {},
   "outputs": [
    {
     "name": "stdout",
     "output_type": "stream",
     "text": [
      "Sorry, we're out of pastrami.\n",
      "I made your veggie sandwich.\n",
      "I made your ham sandwich.\n",
      "I made your tuna sandwich.\n",
      "\n",
      "All sandwiches are made:\n",
      "- veggie sandwich\n",
      "- ham sandwich\n",
      "- tuna sandwich\n"
     ]
    }
   ],
   "source": [
    "sandwich_orders = ['tuna', 'pastrami', 'ham', 'pastrami', 'veggie', 'pastrami']\n",
    "finished_sandwiches = []\n",
    "\n",
    "print(\"Sorry, we're out of pastrami.\")\n",
    "while 'pastrami' in sandwich_orders:\n",
    "    sandwich_orders.remove('pastrami')\n",
    "\n",
    "while sandwich_orders:\n",
    "    sandwich = sandwich_orders.pop()\n",
    "    print(f\"I made your {sandwich} sandwich.\")\n",
    "    finished_sandwiches.append(sandwich)\n",
    "\n",
    "print(\"\\nAll sandwiches are made:\")\n",
    "for sandwich in finished_sandwiches:\n",
    "    print(f\"- {sandwich} sandwich\")"
   ]
  },
  {
   "cell_type": "code",
   "execution_count": null,
   "id": "8f85c0b3-971f-40c5-8663-0c2d83e964c1",
   "metadata": {},
   "outputs": [],
   "source": [
    "responses = []\n",
    "while True:\n",
    "    name = input(\"\\nWhat is your name?\")\n",
    "    response = input(\"If you could visit one place in the world, where would you go?\")\n",
    "    responses[name] = response\n",
    "    repeat = input(\"Would you like to let another person to respond?(yes/no)\")\n",
    "    if repeat == 'no':\n",
    "        break\n",
    "\n",
    "print(\"\\nThe following cities have been pointed out:\")\n",
    "for name, response in responses.items():\n",
    "    print(f\"{name.title()} would like go to {response.title()}.\")"
   ]
  },
  {
   "cell_type": "code",
   "execution_count": null,
   "id": "a265bbee-7717-423d-b913-712db118a247",
   "metadata": {},
   "outputs": [],
   "source": []
  }
 ],
 "metadata": {
  "kernelspec": {
   "display_name": "Python 3 (ipykernel)",
   "language": "python",
   "name": "python3"
  },
  "language_info": {
   "codemirror_mode": {
    "name": "ipython",
    "version": 3
   },
   "file_extension": ".py",
   "mimetype": "text/x-python",
   "name": "python",
   "nbconvert_exporter": "python",
   "pygments_lexer": "ipython3",
   "version": "3.12.7"
  }
 },
 "nbformat": 4,
 "nbformat_minor": 5
}
